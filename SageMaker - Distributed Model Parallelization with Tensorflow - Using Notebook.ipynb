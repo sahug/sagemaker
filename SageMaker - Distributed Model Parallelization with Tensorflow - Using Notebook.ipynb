{
 "cells": [
  {
   "cell_type": "markdown",
   "id": "43e6c429",
   "metadata": {},
   "source": [
    "# SageMaker - Distributed Model Parallelization with Tensorflow - Using Notebook"
   ]
  },
  {
   "cell_type": "markdown",
   "id": "e17d2c9a",
   "metadata": {},
   "source": [
    "**Setup**"
   ]
  },
  {
   "cell_type": "code",
   "execution_count": null,
   "id": "e784143c",
   "metadata": {},
   "outputs": [],
   "source": [
    "!pip install sagemaker-experiments"
   ]
  },
  {
   "cell_type": "code",
   "execution_count": null,
   "id": "45ca3856",
   "metadata": {},
   "outputs": [],
   "source": [
    "!pip install sagemaker --upgrade"
   ]
  },
  {
   "cell_type": "code",
   "execution_count": null,
   "id": "6178d068",
   "metadata": {},
   "outputs": [],
   "source": [
    "%%time\n",
    "import sagemaker\n",
    "from sagemaker import get_execution_role\n",
    "from sagemaker.tensorflow import TensorFlow\n",
    "from smexperiments.experiment import Experiment\n",
    "from smexperiments.trial import Trial\n",
    "import boto3\n",
    "from time import gmtime, strftime"
   ]
  },
  {
   "cell_type": "code",
   "execution_count": null,
   "id": "2be8c32a",
   "metadata": {},
   "outputs": [],
   "source": [
    "role = get_execution_role()  \n",
    "\n",
    "# Provide a pre-existing role ARN as an alternative to creating a new role\n",
    "print(f\"SageMaker Execution Role:{role}\")\n",
    "\n",
    "session = boto3.session.Session()"
   ]
  },
  {
   "cell_type": "markdown",
   "id": "7766c246",
   "metadata": {},
   "source": [
    "**Prepare Training Script**"
   ]
  },
  {
   "cell_type": "markdown",
   "id": "f287210e",
   "metadata": {},
   "source": [
    "Run this cell to see an example of a training scripts that you can use to configure - SageMaker Distributed Model Parallel with TensorFlow versions 2.3"
   ]
  },
  {
   "cell_type": "code",
   "execution_count": null,
   "id": "e9efcf07",
   "metadata": {},
   "outputs": [],
   "source": [
    "!cat sm_tf2_distributed-model.py"
   ]
  },
  {
   "cell_type": "markdown",
   "id": "6238b27f",
   "metadata": {},
   "source": [
    "Run this cell to see an example of a training scripts that you can use to configure - SageMaker Distributed Model Parallel using Horvod with TensorFlow 2.3"
   ]
  },
  {
   "cell_type": "code",
   "execution_count": null,
   "id": "d7a4dec2",
   "metadata": {},
   "outputs": [],
   "source": [
    "!cat sm_tf2_distributed-model_hvd.py"
   ]
  },
  {
   "cell_type": "markdown",
   "id": "14071863",
   "metadata": {},
   "source": [
    "**Define SageMaker Training Job**"
   ]
  },
  {
   "cell_type": "markdown",
   "id": "262c9c83",
   "metadata": {},
   "source": [
    "You must update the following:\n",
    "\n",
    "`processes_per_host`\n",
    "\n",
    "`entry_point`\n",
    "\n",
    "`instance_count`\n",
    "\n",
    "`instance_type`\n",
    "\n",
    "`base_job_name`"
   ]
  },
  {
   "cell_type": "code",
   "execution_count": null,
   "id": "2a9d48f3",
   "metadata": {},
   "outputs": [],
   "source": [
    "sagemaker_session = sagemaker.session.Session(boto_session=session)\n",
    "mpioptions = \"-verbose -x orte_base_help_aggregate=0 \"\n",
    "\n",
    "# Choose an experiment name (only need to create it once)\n",
    "experiment_name = \"SM-MP-DEMO\""
   ]
  },
  {
   "cell_type": "code",
   "execution_count": null,
   "id": "2b2ae767",
   "metadata": {},
   "outputs": [],
   "source": [
    "all_experiment_names = [exp.experiment_name for exp in Experiment.list()]\n",
    "\n",
    "# Load the experiment if it exists, otherwise create\n",
    "if experiment_name not in all_experiment_names:\n",
    "    customer_churn_experiment = Experiment.create(\n",
    "        experiment_name=experiment_name, sagemaker_boto_client=boto3.client(\"sagemaker\")\n",
    "    )\n",
    "else:\n",
    "    customer_churn_experiment = Experiment.load(\n",
    "        experiment_name=experiment_name, sagemaker_boto_client=boto3.client(\"sagemaker\")\n",
    "    )"
   ]
  },
  {
   "cell_type": "code",
   "execution_count": null,
   "id": "58099261",
   "metadata": {},
   "outputs": [],
   "source": [
    "# Create a trial for the current run\n",
    "trial = Trial.create(\n",
    "    trial_name=\"SMD-MP-demo-{}\".format(strftime(\"%Y-%m-%d-%H-%M-%S\", gmtime())),\n",
    "    experiment_name=customer_churn_experiment.experiment_name,\n",
    "    sagemaker_boto_client=boto3.client(\"sagemaker\"),\n",
    ")"
   ]
  },
  {
   "cell_type": "markdown",
   "id": "3f9103d5",
   "metadata": {},
   "source": [
    "Create Estimator"
   ]
  },
  {
   "cell_type": "code",
   "execution_count": null,
   "id": "6564a6f2",
   "metadata": {},
   "outputs": [],
   "source": [
    "smd_mp_estimator = TensorFlow(\n",
    "    \n",
    "    # Pick your train script\n",
    "    entry_point=\"sm_tf2_distributed-model.py\",  \n",
    "    \n",
    "    # source_dir=\"utils\",\n",
    "    role=role,\n",
    "    framework_version=\"2.3.1\",\n",
    "    py_version=\"py37\",\n",
    "    instance_type=\"ml.p3.16xlarge\",\n",
    "    sagemaker_session=sagemaker_session,\n",
    "    instance_count=1,\n",
    "    distribution={\n",
    "        \"smdistributed\": {\n",
    "            \"modelparallel\": {\n",
    "                \"enabled\": True,\n",
    "                \"parameters\": {\n",
    "                    \"microbatches\": 2,\n",
    "                    \"partitions\": 2,\n",
    "                    \"pipeline\": \"interleaved\",\n",
    "                    \"optimize\": \"memory\",\n",
    "                    # Set to True if using the horovod script\n",
    "                    # \"horovod\": True, \n",
    "                },\n",
    "            }\n",
    "        },\n",
    "        \"mpi\": {\n",
    "            \"enabled\": True,\n",
    "            # Pick your processes_per_host\n",
    "            \"processes_per_host\": 2,  \n",
    "            \"custom_mpi_options\": mpioptions,\n",
    "        },\n",
    "    },\n",
    "    base_job_name=\"SMD-MP-demo\",\n",
    ")"
   ]
  },
  {
   "cell_type": "markdown",
   "id": "99aec5ef",
   "metadata": {},
   "source": [
    "Finally, you will use the estimator to launch the SageMaker training job."
   ]
  },
  {
   "cell_type": "code",
   "execution_count": null,
   "id": "be03911c",
   "metadata": {},
   "outputs": [],
   "source": [
    "smd_mp_estimator.fit(\n",
    "    experiment_config={\n",
    "        \"ExperimentName\": customer_churn_experiment.experiment_name,\n",
    "        \"TrialName\": trial.trial_name,\n",
    "        \"TrialComponentDisplayName\": \"Training\",\n",
    "    }\n",
    ")"
   ]
  }
 ],
 "metadata": {
  "kernelspec": {
   "display_name": "Python 3 (ipykernel)",
   "language": "python",
   "name": "python3"
  },
  "language_info": {
   "codemirror_mode": {
    "name": "ipython",
    "version": 3
   },
   "file_extension": ".py",
   "mimetype": "text/x-python",
   "name": "python",
   "nbconvert_exporter": "python",
   "pygments_lexer": "ipython3",
   "version": "3.10.4"
  }
 },
 "nbformat": 4,
 "nbformat_minor": 5
}
