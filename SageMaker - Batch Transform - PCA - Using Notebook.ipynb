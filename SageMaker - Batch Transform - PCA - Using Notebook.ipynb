{
 "cells": [
  {
   "cell_type": "markdown",
   "id": "1c86829b",
   "metadata": {},
   "source": [
    "# SageMaker - Batch Transform - PCA - Using Notebook"
   ]
  },
  {
   "cell_type": "markdown",
   "id": "bf42635c",
   "metadata": {},
   "source": [
    "**Setup**"
   ]
  },
  {
   "cell_type": "code",
   "execution_count": 1,
   "id": "19f421b4",
   "metadata": {},
   "outputs": [],
   "source": [
    "import sagemaker\n",
    "\n",
    "sess = sagemaker.Session()\n",
    "\n",
    "bucket = sess.default_bucket()\n",
    "prefix = \"sagemaker/DEMO-batch-transform\"\n",
    "\n",
    "role = sagemaker.get_execution_role()"
   ]
  },
  {
   "cell_type": "code",
   "execution_count": 2,
   "id": "52ebd263",
   "metadata": {},
   "outputs": [],
   "source": [
    "import boto3\n",
    "import sagemaker\n",
    "import sagemaker.amazon.common as smac\n",
    "from sagemaker.amazon.amazon_estimator import get_image_uri\n",
    "from sagemaker.transformer import Transformer\n",
    "from sagemaker.deserializers import JSONDeserializer\n",
    "from sagemaker.serializers import CSVSerializer\n",
    "import matplotlib.pyplot as plt\n",
    "import pandas as pd\n",
    "import numpy as np\n",
    "import scipy.sparse\n",
    "import os\n",
    "import json"
   ]
  },
  {
   "cell_type": "markdown",
   "id": "806d2842",
   "metadata": {},
   "source": [
    "**Data**"
   ]
  },
  {
   "cell_type": "code",
   "execution_count": 3,
   "id": "f559f734",
   "metadata": {},
   "outputs": [
    {
     "name": "stdout",
     "output_type": "stream",
     "text": [
      "download: s3://amazon-reviews-pds/tsv/amazon_reviews_us_Digital_Video_Download_v1_00.tsv.gz to ../../../../tmp/reviews/amazon_reviews_us_Digital_Video_Download_v1_00.tsv.gz\n"
     ]
    }
   ],
   "source": [
    "!mkdir /tmp/reviews/\n",
    "!aws s3 cp s3://amazon-reviews-pds/tsv/amazon_reviews_us_Digital_Video_Download_v1_00.tsv.gz /tmp/reviews/"
   ]
  },
  {
   "cell_type": "code",
   "execution_count": 4,
   "id": "30b98b06",
   "metadata": {},
   "outputs": [
    {
     "name": "stderr",
     "output_type": "stream",
     "text": [
      "b'Skipping line 92523: expected 15 fields, saw 22\\n'\n",
      "b'Skipping line 343254: expected 15 fields, saw 22\\n'\n",
      "b'Skipping line 524626: expected 15 fields, saw 22\\n'\n",
      "b'Skipping line 623024: expected 15 fields, saw 22\\n'\n",
      "b'Skipping line 977412: expected 15 fields, saw 22\\n'\n",
      "b'Skipping line 1496867: expected 15 fields, saw 22\\n'\n",
      "b'Skipping line 1711638: expected 15 fields, saw 22\\n'\n",
      "b'Skipping line 1787213: expected 15 fields, saw 22\\n'\n",
      "b'Skipping line 2395306: expected 15 fields, saw 22\\n'\n",
      "b'Skipping line 2527690: expected 15 fields, saw 22\\n'\n"
     ]
    },
    {
     "data": {
      "text/html": [
       "<div>\n",
       "<style scoped>\n",
       "    .dataframe tbody tr th:only-of-type {\n",
       "        vertical-align: middle;\n",
       "    }\n",
       "\n",
       "    .dataframe tbody tr th {\n",
       "        vertical-align: top;\n",
       "    }\n",
       "\n",
       "    .dataframe thead th {\n",
       "        text-align: right;\n",
       "    }\n",
       "</style>\n",
       "<table border=\"1\" class=\"dataframe\">\n",
       "  <thead>\n",
       "    <tr style=\"text-align: right;\">\n",
       "      <th></th>\n",
       "      <th>marketplace</th>\n",
       "      <th>customer_id</th>\n",
       "      <th>review_id</th>\n",
       "      <th>product_id</th>\n",
       "      <th>product_parent</th>\n",
       "      <th>product_title</th>\n",
       "      <th>product_category</th>\n",
       "      <th>star_rating</th>\n",
       "      <th>helpful_votes</th>\n",
       "      <th>total_votes</th>\n",
       "      <th>vine</th>\n",
       "      <th>verified_purchase</th>\n",
       "      <th>review_headline</th>\n",
       "      <th>review_body</th>\n",
       "      <th>review_date</th>\n",
       "    </tr>\n",
       "  </thead>\n",
       "  <tbody>\n",
       "    <tr>\n",
       "      <th>0</th>\n",
       "      <td>US</td>\n",
       "      <td>12190288</td>\n",
       "      <td>R3FU16928EP5TC</td>\n",
       "      <td>B00AYB1482</td>\n",
       "      <td>668895143</td>\n",
       "      <td>Enlightened: Season 1</td>\n",
       "      <td>Digital_Video_Download</td>\n",
       "      <td>5</td>\n",
       "      <td>0</td>\n",
       "      <td>0</td>\n",
       "      <td>N</td>\n",
       "      <td>Y</td>\n",
       "      <td>I loved it and I wish there was a season 3</td>\n",
       "      <td>I loved it and I wish there was a season 3... ...</td>\n",
       "      <td>2015-08-31</td>\n",
       "    </tr>\n",
       "    <tr>\n",
       "      <th>1</th>\n",
       "      <td>US</td>\n",
       "      <td>30549954</td>\n",
       "      <td>R1IZHHS1MH3AQ4</td>\n",
       "      <td>B00KQD28OM</td>\n",
       "      <td>246219280</td>\n",
       "      <td>Vicious</td>\n",
       "      <td>Digital_Video_Download</td>\n",
       "      <td>5</td>\n",
       "      <td>0</td>\n",
       "      <td>0</td>\n",
       "      <td>N</td>\n",
       "      <td>Y</td>\n",
       "      <td>As always it seems that the best shows come fr...</td>\n",
       "      <td>As always it seems that the best shows come fr...</td>\n",
       "      <td>2015-08-31</td>\n",
       "    </tr>\n",
       "    <tr>\n",
       "      <th>2</th>\n",
       "      <td>US</td>\n",
       "      <td>52895410</td>\n",
       "      <td>R52R85WC6TIAH</td>\n",
       "      <td>B01489L5LQ</td>\n",
       "      <td>534732318</td>\n",
       "      <td>After Words</td>\n",
       "      <td>Digital_Video_Download</td>\n",
       "      <td>4</td>\n",
       "      <td>17</td>\n",
       "      <td>18</td>\n",
       "      <td>N</td>\n",
       "      <td>Y</td>\n",
       "      <td>Charming movie</td>\n",
       "      <td>This movie isn't perfect, but it gets a lot of...</td>\n",
       "      <td>2015-08-31</td>\n",
       "    </tr>\n",
       "    <tr>\n",
       "      <th>3</th>\n",
       "      <td>US</td>\n",
       "      <td>27072354</td>\n",
       "      <td>R7HOOYTVIB0DS</td>\n",
       "      <td>B008LOVIIK</td>\n",
       "      <td>239012694</td>\n",
       "      <td>Masterpiece: Inspector Lewis Season 5</td>\n",
       "      <td>Digital_Video_Download</td>\n",
       "      <td>5</td>\n",
       "      <td>0</td>\n",
       "      <td>0</td>\n",
       "      <td>N</td>\n",
       "      <td>Y</td>\n",
       "      <td>Five Stars</td>\n",
       "      <td>excellant this is what tv should be</td>\n",
       "      <td>2015-08-31</td>\n",
       "    </tr>\n",
       "    <tr>\n",
       "      <th>4</th>\n",
       "      <td>US</td>\n",
       "      <td>26939022</td>\n",
       "      <td>R1XQ2N5CDOZGNX</td>\n",
       "      <td>B0094LZMT0</td>\n",
       "      <td>535858974</td>\n",
       "      <td>On The Waterfront</td>\n",
       "      <td>Digital_Video_Download</td>\n",
       "      <td>5</td>\n",
       "      <td>0</td>\n",
       "      <td>0</td>\n",
       "      <td>N</td>\n",
       "      <td>Y</td>\n",
       "      <td>Brilliant film from beginning to end</td>\n",
       "      <td>Brilliant film from beginning to end. All of t...</td>\n",
       "      <td>2015-08-31</td>\n",
       "    </tr>\n",
       "  </tbody>\n",
       "</table>\n",
       "</div>"
      ],
      "text/plain": [
       "  marketplace  customer_id       review_id  product_id  product_parent  \\\n",
       "0          US     12190288  R3FU16928EP5TC  B00AYB1482       668895143   \n",
       "1          US     30549954  R1IZHHS1MH3AQ4  B00KQD28OM       246219280   \n",
       "2          US     52895410   R52R85WC6TIAH  B01489L5LQ       534732318   \n",
       "3          US     27072354   R7HOOYTVIB0DS  B008LOVIIK       239012694   \n",
       "4          US     26939022  R1XQ2N5CDOZGNX  B0094LZMT0       535858974   \n",
       "\n",
       "                           product_title        product_category  star_rating  \\\n",
       "0                  Enlightened: Season 1  Digital_Video_Download            5   \n",
       "1                                Vicious  Digital_Video_Download            5   \n",
       "2                            After Words  Digital_Video_Download            4   \n",
       "3  Masterpiece: Inspector Lewis Season 5  Digital_Video_Download            5   \n",
       "4                      On The Waterfront  Digital_Video_Download            5   \n",
       "\n",
       "   helpful_votes  total_votes vine verified_purchase  \\\n",
       "0              0            0    N                 Y   \n",
       "1              0            0    N                 Y   \n",
       "2             17           18    N                 Y   \n",
       "3              0            0    N                 Y   \n",
       "4              0            0    N                 Y   \n",
       "\n",
       "                                     review_headline  \\\n",
       "0         I loved it and I wish there was a season 3   \n",
       "1  As always it seems that the best shows come fr...   \n",
       "2                                     Charming movie   \n",
       "3                                         Five Stars   \n",
       "4               Brilliant film from beginning to end   \n",
       "\n",
       "                                         review_body review_date  \n",
       "0  I loved it and I wish there was a season 3... ...  2015-08-31  \n",
       "1  As always it seems that the best shows come fr...  2015-08-31  \n",
       "2  This movie isn't perfect, but it gets a lot of...  2015-08-31  \n",
       "3                excellant this is what tv should be  2015-08-31  \n",
       "4  Brilliant film from beginning to end. All of t...  2015-08-31  "
      ]
     },
     "execution_count": 4,
     "metadata": {},
     "output_type": "execute_result"
    }
   ],
   "source": [
    "df = pd.read_csv(\"/tmp/reviews/amazon_reviews_us_Digital_Video_Download_v1_00.tsv.gz\", delimiter=\"\\t\", error_bad_lines=False)\n",
    "df.head()"
   ]
  },
  {
   "cell_type": "markdown",
   "id": "6dc7ab45",
   "metadata": {},
   "source": [
    "To keep the problem tractable and get started on batch transform quickly, we’ll make a few simplifying transformations on the data. Let’s start by reducing our dataset to users, items, and start ratings. We’ll keep product title on the dataset for evaluating our clustering at the end."
   ]
  },
  {
   "cell_type": "code",
   "execution_count": 5,
   "id": "768df18a",
   "metadata": {},
   "outputs": [],
   "source": [
    "df = df[[\"customer_id\", \"product_id\", \"star_rating\", \"product_title\"]]"
   ]
  },
  {
   "cell_type": "markdown",
   "id": "0078e7c0",
   "metadata": {},
   "source": [
    "Now, because most users don’t rate most products, and there’s a long tail of products that are almost never rated, we’ll tabulate common percentile"
   ]
  },
  {
   "cell_type": "code",
   "execution_count": 6,
   "id": "d0a5c91f",
   "metadata": {},
   "outputs": [
    {
     "name": "stdout",
     "output_type": "stream",
     "text": [
      "customers\n",
      " 0.0000       1.0\n",
      "0.1000       1.0\n",
      "0.2500       1.0\n",
      "0.5000       1.0\n",
      "0.7500       2.0\n",
      "0.8000       2.0\n",
      "0.8500       3.0\n",
      "0.9000       4.0\n",
      "0.9500       5.0\n",
      "0.9600       6.0\n",
      "0.9700       7.0\n",
      "0.9800       9.0\n",
      "0.9900      13.0\n",
      "0.9950      18.0\n",
      "0.9990      37.0\n",
      "0.9999      97.0\n",
      "1.0000    2704.0\n",
      "Name: customer_id, dtype: float64\n",
      "products\n",
      " 0.0000        1.000\n",
      "0.1000        1.000\n",
      "0.2500        1.000\n",
      "0.5000        3.000\n",
      "0.7500        9.000\n",
      "0.8000       12.000\n",
      "0.8500       18.000\n",
      "0.9000       31.000\n",
      "0.9500       73.000\n",
      "0.9600       95.000\n",
      "0.9700      130.000\n",
      "0.9800      199.000\n",
      "0.9900      386.670\n",
      "0.9950      699.000\n",
      "0.9990     1993.901\n",
      "0.9999     7522.637\n",
      "1.0000    32790.000\n",
      "Name: product_id, dtype: float64\n"
     ]
    }
   ],
   "source": [
    "customers = df[\"customer_id\"].value_counts()\n",
    "products = df[\"product_id\"].value_counts()\n",
    "\n",
    "quantiles = [\n",
    "    0,\n",
    "    0.1,\n",
    "    0.25,\n",
    "    0.5,\n",
    "    0.75,\n",
    "    0.8,\n",
    "    0.85,\n",
    "    0.9,\n",
    "    0.95,\n",
    "    0.96,\n",
    "    0.97,\n",
    "    0.98,\n",
    "    0.99,\n",
    "    0.995,\n",
    "    0.999,\n",
    "    0.9999,\n",
    "    1,\n",
    "]\n",
    "print(\"customers\\n\", customers.quantile(quantiles))\n",
    "print(\"products\\n\", products.quantile(quantiles))"
   ]
  },
  {
   "cell_type": "markdown",
   "id": "418048c1",
   "metadata": {},
   "source": [
    "As we can see, only 0.1% of users have rated more than 36 movies. And, only 25% of movies have been rated more than 8 times. For the purposes of our analysis, we’d like to keep a large sample of popular movies for our clustering, but base that only on heavy reviewers. So, we’ll limit to customers who have reviewed 35+ movies and movies that have been reviewed 20+ times."
   ]
  },
  {
   "cell_type": "code",
   "execution_count": 7,
   "id": "a7921fe8",
   "metadata": {},
   "outputs": [],
   "source": [
    "customers = customers[customers >= 35]\n",
    "products = products[products >= 20]\n",
    "\n",
    "reduced_df = df.merge(pd.DataFrame({\"customer_id\": customers.index})).merge(pd.DataFrame({\"product_id\": products.index}))"
   ]
  },
  {
   "cell_type": "code",
   "execution_count": 8,
   "id": "9a51b18c",
   "metadata": {},
   "outputs": [],
   "source": [
    "customers = reduced_df[\"customer_id\"].value_counts()\n",
    "products = reduced_df[\"product_id\"].value_counts()"
   ]
  },
  {
   "cell_type": "markdown",
   "id": "7b24912c",
   "metadata": {},
   "source": [
    "Split Data to Train and Test"
   ]
  },
  {
   "cell_type": "code",
   "execution_count": 9,
   "id": "5ca0b1c0",
   "metadata": {},
   "outputs": [],
   "source": [
    "test_products = products.sample(frac=0.1)\n",
    "train_products = products[~(products.index.isin(test_products.index))]"
   ]
  },
  {
   "cell_type": "markdown",
   "id": "7423c453",
   "metadata": {},
   "source": [
    "Now, to build our matrix, we’ll give each of our customers and products their own unique, sequential index. This will allow us to easily hold the data as a sparse matrix, and then write that out to S3 as a dense matrix, which will serve as the input to our PCA algorithm."
   ]
  },
  {
   "cell_type": "code",
   "execution_count": 10,
   "id": "d99557c2",
   "metadata": {},
   "outputs": [],
   "source": [
    "customer_index = pd.DataFrame({\"customer_id\": customers.index, \"user\": np.arange(customers.shape[0])})\n",
    "train_product_index = pd.DataFrame({\"product_id\": train_products.index, \"item\": np.arange(train_products.shape[0])})\n",
    "test_product_index = pd.DataFrame({\"product_id\": test_products.index, \"item\": np.arange(test_products.shape[0])})\n",
    "\n",
    "train_df = reduced_df.merge(customer_index).merge(train_product_index)\n",
    "test_df = reduced_df.merge(customer_index).merge(test_product_index)"
   ]
  },
  {
   "cell_type": "markdown",
   "id": "ec401c5b",
   "metadata": {},
   "source": [
    "Next, we’ll create sparse matrices for the train and test datasets from the indices we just created and an indicator for whether the customer gave the rating 4 or more stars."
   ]
  },
  {
   "cell_type": "code",
   "execution_count": 11,
   "id": "dd36dffd",
   "metadata": {},
   "outputs": [],
   "source": [
    "train_sparse = scipy.sparse.csr_matrix(\n",
    "    (\n",
    "        np.where(train_df[\"star_rating\"].values >= 4, 1, 0),\n",
    "        (train_df[\"item\"].values, train_df[\"user\"].values),\n",
    "    ),\n",
    "    shape=(train_df[\"item\"].nunique(), customers.count()),\n",
    ")\n",
    "\n",
    "test_sparse = scipy.sparse.csr_matrix(\n",
    "    (\n",
    "        np.where(test_df[\"star_rating\"].values >= 4, 1, 0),\n",
    "        (test_df[\"item\"].values, test_df[\"user\"].values),\n",
    "    ),\n",
    "    shape=(test_df[\"item\"].nunique(), customers.count()),\n",
    ")"
   ]
  },
  {
   "cell_type": "markdown",
   "id": "892ee372",
   "metadata": {},
   "source": [
    "Now, we’ll save these files to dense CSVs. This will create a dense matrix of movies by customers, with reviews as the entries, similar to:"
   ]
  },
  {
   "cell_type": "code",
   "execution_count": 12,
   "id": "1387ea41",
   "metadata": {},
   "outputs": [],
   "source": [
    "np.savetxt(\"/tmp/reviews/train.csv\", train_sparse.todense(), delimiter=\",\", fmt=\"%i\")\n",
    "\n",
    "np.savetxt(\"/tmp/reviews/test.csv\", test_sparse.todense(), delimiter=\",\", fmt=\"%i\")"
   ]
  },
  {
   "cell_type": "markdown",
   "id": "35adabde",
   "metadata": {},
   "source": [
    "And upload them to S3."
   ]
  },
  {
   "cell_type": "code",
   "execution_count": 13,
   "id": "a25663f4",
   "metadata": {},
   "outputs": [],
   "source": [
    "train_s3 = sess.upload_data(\n",
    "    \"/tmp/reviews/train.csv\", bucket=bucket, key_prefix=\"{}/pca/train\".format(prefix)\n",
    ")\n",
    "\n",
    "test_s3 = sess.upload_data(\n",
    "    \"/tmp/reviews/test.csv\", bucket=bucket, key_prefix=\"{}/pca/test\".format(prefix)\n",
    ")"
   ]
  },
  {
   "cell_type": "markdown",
   "id": "8b940a3e",
   "metadata": {},
   "source": [
    "Create an input which can be passed to our SageMaker training estimator."
   ]
  },
  {
   "cell_type": "code",
   "execution_count": 14,
   "id": "5db88d1f",
   "metadata": {},
   "outputs": [],
   "source": [
    "train_inputs = sagemaker.inputs.TrainingInput(train_s3, content_type=\"text/csv;label_size=0\")"
   ]
  },
  {
   "cell_type": "markdown",
   "id": "9b919d20",
   "metadata": {},
   "source": [
    "**Dimensionality reduction**"
   ]
  },
  {
   "cell_type": "markdown",
   "id": "a682b23b",
   "metadata": {},
   "source": [
    "**Train PCA**"
   ]
  },
  {
   "cell_type": "code",
   "execution_count": 15,
   "id": "74de190b",
   "metadata": {},
   "outputs": [
    {
     "name": "stderr",
     "output_type": "stream",
     "text": [
      "The method get_image_uri has been renamed in sagemaker>=2.\n",
      "See: https://sagemaker.readthedocs.io/en/stable/v2.html for details.\n",
      "Defaulting to the only supported framework/algorithm version: 1. Ignoring framework/algorithm version: latest.\n"
     ]
    }
   ],
   "source": [
    "container = get_image_uri(boto3.Session().region_name, \"pca\", \"latest\")"
   ]
  },
  {
   "cell_type": "code",
   "execution_count": 19,
   "id": "0b197443",
   "metadata": {},
   "outputs": [
    {
     "name": "stderr",
     "output_type": "stream",
     "text": [
      "train_instance_count has been renamed in sagemaker>=2.\n",
      "See: https://sagemaker.readthedocs.io/en/stable/v2.html for details.\n",
      "train_instance_type has been renamed in sagemaker>=2.\n",
      "See: https://sagemaker.readthedocs.io/en/stable/v2.html for details.\n",
      "train_max_run has been renamed in sagemaker>=2.\n",
      "See: https://sagemaker.readthedocs.io/en/stable/v2.html for details.\n"
     ]
    }
   ],
   "source": [
    "pca = sagemaker.estimator.Estimator(\n",
    "    container,\n",
    "    role,\n",
    "    train_instance_count=1,\n",
    "    train_instance_type=\"ml.m4.xlarge\",\n",
    "    output_path=\"s3://{}/{}/pca/output\".format(bucket, prefix),\n",
    "    sagemaker_session=sess,\n",
    "    rain_use_spot_instances=True,\n",
    "    train_max_run=300\n",
    " )"
   ]
  },
  {
   "cell_type": "markdown",
   "id": "00c8a59d",
   "metadata": {},
   "source": [
    "**Define Hyperparameter**"
   ]
  },
  {
   "cell_type": "code",
   "execution_count": 20,
   "id": "f48e43c3",
   "metadata": {},
   "outputs": [],
   "source": [
    "pca.set_hyperparameters(\n",
    "    feature_dim=customers.count(),\n",
    "    num_components=100,\n",
    "    subtract_mean=True,\n",
    "    algorithm_mode=\"randomized\",\n",
    "    mini_batch_size=500,\n",
    ")"
   ]
  },
  {
   "cell_type": "markdown",
   "id": "5b0fd4d7",
   "metadata": {},
   "source": [
    "**Fit Model**"
   ]
  },
  {
   "cell_type": "code",
   "execution_count": 21,
   "id": "93ab9d71",
   "metadata": {},
   "outputs": [
    {
     "name": "stdout",
     "output_type": "stream",
     "text": [
      "2022-05-06 02:57:29 Starting - Starting the training job...\n",
      "2022-05-06 02:57:54 Starting - Preparing the instances for trainingProfilerReport-1651805849: InProgress\n",
      ".........\n",
      "2022-05-06 02:59:14 Downloading - Downloading input data......\n",
      "2022-05-06 03:00:24 Training - Training image download completed. Training in progress..\u001b[34mDocker entrypoint called with argument(s): train\u001b[0m\n",
      "\u001b[34mRunning default environment configuration script\u001b[0m\n",
      "\u001b[34m[05/06/2022 03:00:30 INFO 139765692254016 integration.py:636] worker started\u001b[0m\n",
      "\u001b[34m[05/06/2022 03:00:30 INFO 139765692254016] Reading default configuration from /opt/amazon/lib/python3.7/site-packages/algorithm/resources/default-conf.json: {'algorithm_mode': 'regular', 'subtract_mean': 'true', 'extra_components': '-1', 'force_dense': 'true', 'epochs': 1, '_log_level': 'info', '_kvstore': 'dist_sync', '_num_kv_servers': 'auto', '_num_gpus': 'auto'}\u001b[0m\n",
      "\u001b[34m[05/06/2022 03:00:30 INFO 139765692254016] Merging with provided configuration from /opt/ml/input/config/hyperparameters.json: {'algorithm_mode': 'randomized', 'feature_dim': '2348', 'mini_batch_size': '500', 'num_components': '100', 'subtract_mean': 'True'}\u001b[0m\n",
      "\u001b[34m[05/06/2022 03:00:30 INFO 139765692254016] Final configuration: {'algorithm_mode': 'randomized', 'subtract_mean': 'True', 'extra_components': '-1', 'force_dense': 'true', 'epochs': 1, '_log_level': 'info', '_kvstore': 'dist_sync', '_num_kv_servers': 'auto', '_num_gpus': 'auto', 'feature_dim': '2348', 'mini_batch_size': '500', 'num_components': '100'}\u001b[0m\n",
      "\u001b[34m[05/06/2022 03:00:30 WARNING 139765692254016] Loggers have already been setup.\u001b[0m\n",
      "\u001b[34m[05/06/2022 03:00:30 INFO 139765692254016] Launching parameter server for role scheduler\u001b[0m\n",
      "\u001b[34m[05/06/2022 03:00:30 INFO 139765692254016] {'ENVROOT': '/opt/amazon', 'PROTOCOL_BUFFERS_PYTHON_IMPLEMENTATION': 'cpp', 'HOSTNAME': 'ip-10-0-147-92.us-east-2.compute.internal', 'TRAINING_JOB_NAME': 'pca-2022-05-06-02-57-29-234', 'NVIDIA_REQUIRE_CUDA': 'cuda>=9.0', 'TRAINING_JOB_ARN': 'arn:aws:sagemaker:us-east-2:782329204437:training-job/pca-2022-05-06-02-57-29-234', 'AWS_CONTAINER_CREDENTIALS_RELATIVE_URI': '/v2/credentials/proxy-c9e2e2ee15cff5eba32278657be2b9b6fb77d51aba5660c255d32e1f3dc4606d-customer', 'CANONICAL_ENVROOT': '/opt/amazon', 'PYTHONUNBUFFERED': 'TRUE', 'NVIDIA_VISIBLE_DEVICES': 'all', 'LD_LIBRARY_PATH': '/opt/amazon/lib/python3.7/site-packages/cv2/../../../../lib:/usr/local/nvidia/lib64:/opt/amazon/lib', 'NVIDIA_DRIVER_CAPABILITIES': 'compute,utility', 'PATH': '/opt/amazon/bin:/usr/local/nvidia/bin:/usr/local/sbin:/usr/local/bin:/usr/sbin:/usr/bin:/sbin:/bin', 'PWD': '/', 'LANG': 'en_US.utf8', 'AWS_REGION': 'us-east-2', 'HOME': '/root', 'SHLVL': '1', 'PROTOCOL_BUFFERS_PYTHON_IMPLEMENTATION_VERSION': '2', 'OMP_NUM_THREADS': '2', 'DMLC_INTERFACE': 'eth0', 'SAGEMAKER_HTTP_PORT': '8080', 'SAGEMAKER_DATA_PATH': '/opt/ml'}\u001b[0m\n",
      "\u001b[34m[05/06/2022 03:00:30 INFO 139765692254016] envs={'ENVROOT': '/opt/amazon', 'PROTOCOL_BUFFERS_PYTHON_IMPLEMENTATION': 'cpp', 'HOSTNAME': 'ip-10-0-147-92.us-east-2.compute.internal', 'TRAINING_JOB_NAME': 'pca-2022-05-06-02-57-29-234', 'NVIDIA_REQUIRE_CUDA': 'cuda>=9.0', 'TRAINING_JOB_ARN': 'arn:aws:sagemaker:us-east-2:782329204437:training-job/pca-2022-05-06-02-57-29-234', 'AWS_CONTAINER_CREDENTIALS_RELATIVE_URI': '/v2/credentials/proxy-c9e2e2ee15cff5eba32278657be2b9b6fb77d51aba5660c255d32e1f3dc4606d-customer', 'CANONICAL_ENVROOT': '/opt/amazon', 'PYTHONUNBUFFERED': 'TRUE', 'NVIDIA_VISIBLE_DEVICES': 'all', 'LD_LIBRARY_PATH': '/opt/amazon/lib/python3.7/site-packages/cv2/../../../../lib:/usr/local/nvidia/lib64:/opt/amazon/lib', 'NVIDIA_DRIVER_CAPABILITIES': 'compute,utility', 'PATH': '/opt/amazon/bin:/usr/local/nvidia/bin:/usr/local/sbin:/usr/local/bin:/usr/sbin:/usr/bin:/sbin:/bin', 'PWD': '/', 'LANG': 'en_US.utf8', 'AWS_REGION': 'us-east-2', 'HOME': '/root', 'SHLVL': '1', 'PROTOCOL_BUFFERS_PYTHON_IMPLEMENTATION_VERSION': '2', 'OMP_NUM_THREADS': '2', 'DMLC_INTERFACE': 'eth0', 'SAGEMAKER_HTTP_PORT': '8080', 'SAGEMAKER_DATA_PATH': '/opt/ml', 'DMLC_ROLE': 'scheduler', 'DMLC_PS_ROOT_URI': '10.0.147.92', 'DMLC_PS_ROOT_PORT': '9000', 'DMLC_NUM_SERVER': '1', 'DMLC_NUM_WORKER': '1'}\u001b[0m\n",
      "\u001b[34m[05/06/2022 03:00:30 INFO 139765692254016] Launching parameter server for role server\u001b[0m\n",
      "\u001b[34m[05/06/2022 03:00:30 INFO 139765692254016] {'ENVROOT': '/opt/amazon', 'PROTOCOL_BUFFERS_PYTHON_IMPLEMENTATION': 'cpp', 'HOSTNAME': 'ip-10-0-147-92.us-east-2.compute.internal', 'TRAINING_JOB_NAME': 'pca-2022-05-06-02-57-29-234', 'NVIDIA_REQUIRE_CUDA': 'cuda>=9.0', 'TRAINING_JOB_ARN': 'arn:aws:sagemaker:us-east-2:782329204437:training-job/pca-2022-05-06-02-57-29-234', 'AWS_CONTAINER_CREDENTIALS_RELATIVE_URI': '/v2/credentials/proxy-c9e2e2ee15cff5eba32278657be2b9b6fb77d51aba5660c255d32e1f3dc4606d-customer', 'CANONICAL_ENVROOT': '/opt/amazon', 'PYTHONUNBUFFERED': 'TRUE', 'NVIDIA_VISIBLE_DEVICES': 'all', 'LD_LIBRARY_PATH': '/opt/amazon/lib/python3.7/site-packages/cv2/../../../../lib:/usr/local/nvidia/lib64:/opt/amazon/lib', 'NVIDIA_DRIVER_CAPABILITIES': 'compute,utility', 'PATH': '/opt/amazon/bin:/usr/local/nvidia/bin:/usr/local/sbin:/usr/local/bin:/usr/sbin:/usr/bin:/sbin:/bin', 'PWD': '/', 'LANG': 'en_US.utf8', 'AWS_REGION': 'us-east-2', 'HOME': '/root', 'SHLVL': '1', 'PROTOCOL_BUFFERS_PYTHON_IMPLEMENTATION_VERSION': '2', 'OMP_NUM_THREADS': '2', 'DMLC_INTERFACE': 'eth0', 'SAGEMAKER_HTTP_PORT': '8080', 'SAGEMAKER_DATA_PATH': '/opt/ml'}\u001b[0m\n",
      "\u001b[34m[05/06/2022 03:00:30 INFO 139765692254016] envs={'ENVROOT': '/opt/amazon', 'PROTOCOL_BUFFERS_PYTHON_IMPLEMENTATION': 'cpp', 'HOSTNAME': 'ip-10-0-147-92.us-east-2.compute.internal', 'TRAINING_JOB_NAME': 'pca-2022-05-06-02-57-29-234', 'NVIDIA_REQUIRE_CUDA': 'cuda>=9.0', 'TRAINING_JOB_ARN': 'arn:aws:sagemaker:us-east-2:782329204437:training-job/pca-2022-05-06-02-57-29-234', 'AWS_CONTAINER_CREDENTIALS_RELATIVE_URI': '/v2/credentials/proxy-c9e2e2ee15cff5eba32278657be2b9b6fb77d51aba5660c255d32e1f3dc4606d-customer', 'CANONICAL_ENVROOT': '/opt/amazon', 'PYTHONUNBUFFERED': 'TRUE', 'NVIDIA_VISIBLE_DEVICES': 'all', 'LD_LIBRARY_PATH': '/opt/amazon/lib/python3.7/site-packages/cv2/../../../../lib:/usr/local/nvidia/lib64:/opt/amazon/lib', 'NVIDIA_DRIVER_CAPABILITIES': 'compute,utility', 'PATH': '/opt/amazon/bin:/usr/local/nvidia/bin:/usr/local/sbin:/usr/local/bin:/usr/sbin:/usr/bin:/sbin:/bin', 'PWD': '/', 'LANG': 'en_US.utf8', 'AWS_REGION': 'us-east-2', 'HOME': '/root', 'SHLVL': '1', 'PROTOCOL_BUFFERS_PYTHON_IMPLEMENTATION_VERSION': '2', 'OMP_NUM_THREADS': '2', 'DMLC_INTERFACE': 'eth0', 'SAGEMAKER_HTTP_PORT': '8080', 'SAGEMAKER_DATA_PATH': '/opt/ml', 'DMLC_ROLE': 'server', 'DMLC_PS_ROOT_URI': '10.0.147.92', 'DMLC_PS_ROOT_PORT': '9000', 'DMLC_NUM_SERVER': '1', 'DMLC_NUM_WORKER': '1'}\u001b[0m\n",
      "\u001b[34m[05/06/2022 03:00:30 INFO 139765692254016] Environment: {'ENVROOT': '/opt/amazon', 'PROTOCOL_BUFFERS_PYTHON_IMPLEMENTATION': 'cpp', 'HOSTNAME': 'ip-10-0-147-92.us-east-2.compute.internal', 'TRAINING_JOB_NAME': 'pca-2022-05-06-02-57-29-234', 'NVIDIA_REQUIRE_CUDA': 'cuda>=9.0', 'TRAINING_JOB_ARN': 'arn:aws:sagemaker:us-east-2:782329204437:training-job/pca-2022-05-06-02-57-29-234', 'AWS_CONTAINER_CREDENTIALS_RELATIVE_URI': '/v2/credentials/proxy-c9e2e2ee15cff5eba32278657be2b9b6fb77d51aba5660c255d32e1f3dc4606d-customer', 'CANONICAL_ENVROOT': '/opt/amazon', 'PYTHONUNBUFFERED': 'TRUE', 'NVIDIA_VISIBLE_DEVICES': 'all', 'LD_LIBRARY_PATH': '/opt/amazon/lib/python3.7/site-packages/cv2/../../../../lib:/usr/local/nvidia/lib64:/opt/amazon/lib', 'NVIDIA_DRIVER_CAPABILITIES': 'compute,utility', 'PATH': '/opt/amazon/bin:/usr/local/nvidia/bin:/usr/local/sbin:/usr/local/bin:/usr/sbin:/usr/bin:/sbin:/bin', 'PWD': '/', 'LANG': 'en_US.utf8', 'AWS_REGION': 'us-east-2', 'HOME': '/root', 'SHLVL': '1', 'PROTOCOL_BUFFERS_PYTHON_IMPLEMENTATION_VERSION': '2', 'OMP_NUM_THREADS': '2', 'DMLC_INTERFACE': 'eth0', 'SAGEMAKER_HTTP_PORT': '8080', 'SAGEMAKER_DATA_PATH': '/opt/ml', 'DMLC_ROLE': 'worker', 'DMLC_PS_ROOT_URI': '10.0.147.92', 'DMLC_PS_ROOT_PORT': '9000', 'DMLC_NUM_SERVER': '1', 'DMLC_NUM_WORKER': '1'}\u001b[0m\n",
      "\u001b[34mProcess 34 is a shell:scheduler.\u001b[0m\n",
      "\u001b[34mProcess 43 is a shell:server.\u001b[0m\n",
      "\u001b[34mProcess 1 is a worker.\u001b[0m\n",
      "\u001b[34m[05/06/2022 03:00:30 INFO 139765692254016] Using default worker.\u001b[0m\n",
      "\u001b[34m[05/06/2022 03:00:30 INFO 139765692254016] Loaded iterator creator application/x-labeled-vector-protobuf for content type ('application/x-labeled-vector-protobuf', '1.0')\u001b[0m\n",
      "\u001b[34m[05/06/2022 03:00:30 INFO 139765692254016] Loaded iterator creator application/x-recordio-protobuf for content type ('application/x-recordio-protobuf', '1.0')\u001b[0m\n",
      "\u001b[34m[05/06/2022 03:00:30 INFO 139765692254016] Loaded iterator creator protobuf for content type ('protobuf', '1.0')\u001b[0m\n",
      "\u001b[34m[05/06/2022 03:00:30 INFO 139765692254016] Checkpoint loading and saving are disabled.\u001b[0m\n",
      "\u001b[34m[05/06/2022 03:00:30 INFO 139765692254016] Create Store: dist_sync\u001b[0m\n",
      "\u001b[34m[05/06/2022 03:00:31 INFO 139765692254016] nvidia-smi: took 0.031 seconds to run.\u001b[0m\n",
      "\u001b[34m[05/06/2022 03:00:31 INFO 139765692254016] nvidia-smi identified 0 GPUs.\u001b[0m\n",
      "\u001b[34m[05/06/2022 03:00:31 INFO 139765692254016] Number of GPUs being used: 0\u001b[0m\n",
      "\u001b[34m[05/06/2022 03:00:31 INFO 139765692254016] The default executor is <RandomizedPCAExecutor on cpu(0)>.\u001b[0m\n",
      "\u001b[34m[05/06/2022 03:00:31 INFO 139765692254016] 2348 feature(s) found in 'data'.\u001b[0m\n",
      "\u001b[34m[05/06/2022 03:00:31 INFO 139765692254016] <RandomizedPCAExecutor on cpu(0)> is assigned to batch slice from 0 to 499.\u001b[0m\n",
      "\u001b[34m#metrics {\"StartTime\": 1651806030.4778068, \"EndTime\": 1651806031.5761793, \"Dimensions\": {\"Algorithm\": \"PCA\", \"Host\": \"algo-1\", \"Operation\": \"training\"}, \"Metrics\": {\"initialize.time\": {\"sum\": 1098.0181694030762, \"count\": 1, \"min\": 1098.0181694030762, \"max\": 1098.0181694030762}}}\u001b[0m\n",
      "\u001b[34m#metrics {\"StartTime\": 1651806031.576396, \"EndTime\": 1651806031.5764542, \"Dimensions\": {\"Algorithm\": \"PCA\", \"Host\": \"algo-1\", \"Operation\": \"training\", \"Meta\": \"init_train_data_iter\"}, \"Metrics\": {\"Total Records Seen\": {\"sum\": 0.0, \"count\": 1, \"min\": 0, \"max\": 0}, \"Total Batches Seen\": {\"sum\": 0.0, \"count\": 1, \"min\": 0, \"max\": 0}, \"Max Records Seen Between Resets\": {\"sum\": 0.0, \"count\": 1, \"min\": 0, \"max\": 0}, \"Max Batches Seen Between Resets\": {\"sum\": 0.0, \"count\": 1, \"min\": 0, \"max\": 0}, \"Reset Count\": {\"sum\": 0.0, \"count\": 1, \"min\": 0, \"max\": 0}, \"Number of Records Since Last Reset\": {\"sum\": 0.0, \"count\": 1, \"min\": 0, \"max\": 0}, \"Number of Batches Since Last Reset\": {\"sum\": 0.0, \"count\": 1, \"min\": 0, \"max\": 0}}}\u001b[0m\n",
      "\u001b[34m#metrics {\"StartTime\": 1651806031.5763183, \"EndTime\": 1651806042.4589114, \"Dimensions\": {\"Algorithm\": \"PCA\", \"Host\": \"algo-1\", \"Operation\": \"training\"}, \"Metrics\": {\"epochs\": {\"sum\": 1.0, \"count\": 1, \"min\": 1, \"max\": 1}, \"update.time\": {\"sum\": 10882.107734680176, \"count\": 1, \"min\": 10882.107734680176, \"max\": 10882.107734680176}}}\u001b[0m\n",
      "\u001b[34m[05/06/2022 03:00:42 INFO 139765692254016] #progress_metric: host=algo-1, completed 100.0 % of epochs\u001b[0m\n",
      "\u001b[34m#metrics {\"StartTime\": 1651806031.576763, \"EndTime\": 1651806042.4593227, \"Dimensions\": {\"Algorithm\": \"PCA\", \"Host\": \"algo-1\", \"Operation\": \"training\", \"epoch\": 0, \"Meta\": \"training_data_iter\"}, \"Metrics\": {\"Total Records Seen\": {\"sum\": 16922.0, \"count\": 1, \"min\": 16922, \"max\": 16922}, \"Total Batches Seen\": {\"sum\": 34.0, \"count\": 1, \"min\": 34, \"max\": 34}, \"Max Records Seen Between Resets\": {\"sum\": 16922.0, \"count\": 1, \"min\": 16922, \"max\": 16922}, \"Max Batches Seen Between Resets\": {\"sum\": 34.0, \"count\": 1, \"min\": 34, \"max\": 34}, \"Reset Count\": {\"sum\": 1.0, \"count\": 1, \"min\": 1, \"max\": 1}, \"Number of Records Since Last Reset\": {\"sum\": 16922.0, \"count\": 1, \"min\": 16922, \"max\": 16922}, \"Number of Batches Since Last Reset\": {\"sum\": 34.0, \"count\": 1, \"min\": 34, \"max\": 34}}}\u001b[0m\n",
      "\u001b[34m[05/06/2022 03:00:42 INFO 139765692254016] #throughput_metric: host=algo-1, train throughput=1554.9448048583604 records/second\u001b[0m\n",
      "\u001b[34m#metrics {\"StartTime\": 1651806042.4590254, \"EndTime\": 1651806042.6401706, \"Dimensions\": {\"Algorithm\": \"PCA\", \"Host\": \"algo-1\", \"Operation\": \"training\"}, \"Metrics\": {\"finalize.time\": {\"sum\": 180.39345741271973, \"count\": 1, \"min\": 180.39345741271973, \"max\": 180.39345741271973}}}\u001b[0m\n",
      "\u001b[34m[05/06/2022 03:00:42 INFO 139765692254016] Test data is not provided.\u001b[0m\n",
      "\u001b[34m#metrics {\"StartTime\": 1651806042.6403196, \"EndTime\": 1651806042.645654, \"Dimensions\": {\"Algorithm\": \"PCA\", \"Host\": \"algo-1\", \"Operation\": \"training\"}, \"Metrics\": {\"setuptime\": {\"sum\": 28.824567794799805, \"count\": 1, \"min\": 28.824567794799805, \"max\": 28.824567794799805}, \"totaltime\": {\"sum\": 12404.508590698242, \"count\": 1, \"min\": 12404.508590698242, \"max\": 12404.508590698242}}}\u001b[0m\n",
      "\u001b[34m[05/06/2022 03:00:42 INFO 139765692254016 integration.py:636] worker closed\u001b[0m\n",
      "\n",
      "2022-05-06 03:00:55 Uploading - Uploading generated training model\n",
      "2022-05-06 03:00:55 Completed - Training job completed\n",
      "Training seconds: 102\n",
      "Billable seconds: 102\n"
     ]
    }
   ],
   "source": [
    "pca.fit({\"train\": train_inputs})"
   ]
  },
  {
   "attachments": {
    "image.png": {
     "image/png": "[encoded data removed]"
    }
   },
   "cell_type": "markdown",
   "id": "8e52984a",
   "metadata": {},
   "source": [
    "![image.png](attachment:image.png)"
   ]
  },
  {
   "cell_type": "markdown",
   "id": "43c74f8c",
   "metadata": {},
   "source": [
    "**Batch prediction PCA**"
   ]
  },
  {
   "cell_type": "markdown",
   "id": "2df6c792",
   "metadata": {},
   "source": [
    "Now that our PCA training job has finished, let’s generate some predictions from it. We’ll start by creating a batch transformer. "
   ]
  },
  {
   "cell_type": "code",
   "execution_count": 22,
   "id": "99d61ad7",
   "metadata": {},
   "outputs": [],
   "source": [
    "pca_transformer = pca.transformer(\n",
    "    instance_count=1,\n",
    "    instance_type=\"ml.m4.xlarge\",\n",
    "    strategy=\"MultiRecord\",\n",
    "    assemble_with=\"Line\",\n",
    "    output_path=\"s3://{}/{}/pca/transform/train\".format(bucket, prefix),\n",
    ")"
   ]
  },
  {
   "cell_type": "markdown",
   "id": "6ca98e30",
   "metadata": {},
   "source": [
    "Now, we’ll pass our training data in to get predictions from batch transformer. A critical parameter to set properly here is split_type. Since we are using CSV, we’ll specify ‘Line’, which ensures we only pass one line at a time to our algorithm for prediction. Had we not specified this, we’d attempt to pass all lines in our file, which would exhaust our transformer instance’s memory.\n",
    "\n",
    "**Note:** Here we pass the S3 path as input rather than input we use in ``.fit()``."
   ]
  },
  {
   "cell_type": "code",
   "execution_count": 23,
   "id": "fd33caa7",
   "metadata": {},
   "outputs": [
    {
     "name": "stdout",
     "output_type": "stream",
     "text": [
      "................................\u001b[34mDocker entrypoint called with argument(s): serve\u001b[0m\n",
      "\u001b[34mRunning default environment configuration script\u001b[0m\n",
      "\u001b[34m[05/06/2022 03:06:51 INFO 140438325135168] loaded entry point class algorithm.serve.server_config:config_api\u001b[0m\n",
      "\u001b[34m[05/06/2022 03:06:51 INFO 140438325135168] nvidia-smi: took 0.031 seconds to run.\u001b[0m\n",
      "\u001b[34m[05/06/2022 03:06:51 INFO 140438325135168] nvidia-smi identified 0 GPUs.\u001b[0m\n",
      "\u001b[34m[05/06/2022 03:06:51 INFO 140438325135168] loading entry points\u001b[0m\n",
      "\u001b[34m[05/06/2022 03:06:51 INFO 140438325135168] Loaded iterator creator application/x-labeled-vector-protobuf for content type ('application/x-labeled-vector-protobuf', '1.0')\u001b[0m\n",
      "\u001b[34m[05/06/2022 03:06:51 INFO 140438325135168] Loaded iterator creator application/x-recordio-protobuf for content type ('application/x-recordio-protobuf', '1.0')\u001b[0m\n",
      "\u001b[34m[05/06/2022 03:06:51 INFO 140438325135168] Loaded iterator creator protobuf for content type ('protobuf', '1.0')\u001b[0m\n",
      "\u001b[34m[05/06/2022 03:06:51 INFO 140438325135168] loaded request iterator application/json\u001b[0m\n",
      "\u001b[34m[05/06/2022 03:06:51 INFO 140438325135168] loaded request iterator application/jsonlines\u001b[0m\n",
      "\u001b[34m[05/06/2022 03:06:51 INFO 140438325135168] loaded request iterator application/x-recordio-protobuf\u001b[0m\n",
      "\u001b[34m[05/06/2022 03:06:51 INFO 140438325135168] loaded request iterator text/csv\u001b[0m\n",
      "\u001b[34m[05/06/2022 03:06:51 INFO 140438325135168] loaded response encoder application/json\u001b[0m\n",
      "\u001b[34m[05/06/2022 03:06:51 INFO 140438325135168] loaded response encoder application/jsonlines\u001b[0m\n",
      "\u001b[34m[05/06/2022 03:06:51 INFO 140438325135168] loaded response encoder application/x-recordio-protobuf\u001b[0m\n",
      "\u001b[34m[05/06/2022 03:06:51 INFO 140438325135168] loaded entry point class algorithm:model\u001b[0m\n",
      "\u001b[34m[05/06/2022 03:06:51 INFO 140438325135168] Loaded iterator creator application/x-labeled-vector-protobuf for content type ('application/x-labeled-vector-protobuf', '1.0')\u001b[0m\n",
      "\u001b[34m[05/06/2022 03:06:51 INFO 140438325135168] Loaded iterator creator application/x-recordio-protobuf for content type ('application/x-recordio-protobuf', '1.0')\u001b[0m\n",
      "\u001b[34m[05/06/2022 03:06:51 INFO 140438325135168] Loaded iterator creator protobuf for content type ('protobuf', '1.0')\u001b[0m\n",
      "\u001b[34m[05/06/2022 03:06:51 INFO 140438325135168] Number of server workers: 4\u001b[0m\n",
      "\u001b[34m[2022-05-06 03:06:51 +0000] [1] [INFO] Starting gunicorn 20.1.0\u001b[0m\n",
      "\u001b[34m[2022-05-06 03:06:51 +0000] [1] [INFO] Listening at: http://0.0.0.0:8080 (1)\u001b[0m\n",
      "\u001b[34m[2022-05-06 03:06:51 +0000] [1] [INFO] Using worker: sync\u001b[0m\n",
      "\u001b[34m[2022-05-06 03:06:51 +0000] [55] [INFO] Booting worker with pid: 55\u001b[0m\n",
      "\u001b[34m[05/06/2022 03:06:51 INFO 140438325135168] loading model...\u001b[0m\n",
      "\u001b[34m[05/06/2022 03:06:51 INFO 140438325135168] ...model loaded.\u001b[0m\n",
      "\u001b[34m[2022-05-06 03:06:51 +0000] [66] [INFO] Booting worker with pid: 66\u001b[0m\n",
      "\u001b[34m[05/06/2022 03:06:51 INFO 140438325135168] loading model...\u001b[0m\n",
      "\u001b[34m[05/06/2022 03:06:51 INFO 140438325135168] ...model loaded.\u001b[0m\n",
      "\u001b[34m[2022-05-06 03:06:51 +0000] [77] [INFO] Booting worker with pid: 77\u001b[0m\n",
      "\u001b[34m[05/06/2022 03:06:51 INFO 140438325135168] loading model...\u001b[0m\n",
      "\u001b[34m[05/06/2022 03:06:51 INFO 140438325135168] ...model loaded.\u001b[0m\n",
      "\u001b[34m[2022-05-06 03:06:51 +0000] [87] [INFO] Booting worker with pid: 87\u001b[0m\n",
      "\u001b[34m[05/06/2022 03:06:51 INFO 140438325135168] loading model...\u001b[0m\n",
      "\u001b[34m[05/06/2022 03:06:51 INFO 140438325135168] ...model loaded.\u001b[0m\n",
      "\u001b[34m#metrics {\"StartTime\": 1651806411.9636323, \"EndTime\": 1651806413.848196, \"Dimensions\": {\"Algorithm\": \"AlgorithmModel\", \"Host\": \"UNKNOWN\", \"Operation\": \"scoring\"}, \"Metrics\": {\"execution_parameters.count\": {\"sum\": 1.0, \"count\": 1, \"min\": 1, \"max\": 1}}}\u001b[0m\n",
      "\u001b[34m[05/06/2022 03:06:56 WARNING 140438325135168] Requesting context without setting the requested num of gpus. Using 'auto'\u001b[0m\n",
      "\u001b[34m[05/06/2022 03:06:56 INFO 140438325135168] Number of GPUs being used: 0\u001b[0m\n",
      "\u001b[34m[05/06/2022 03:06:56 INFO 140438325135168] The default executor is <PCAModel on cpu(0)>.\u001b[0m\n",
      "\u001b[34m[05/06/2022 03:06:56 INFO 140438325135168] <PCAModel on cpu(0)> is assigned to batch slice from 0 to 1338.\u001b[0m\n",
      "\u001b[34m[05/06/2022 03:06:56 WARNING 140438325135168] Requesting context without setting the requested num of gpus. Using 'auto'\u001b[0m\n",
      "\u001b[34m[05/06/2022 03:06:56 INFO 140438325135168] Number of GPUs being used: 0\u001b[0m\n",
      "\u001b[34m[05/06/2022 03:06:56 INFO 140438325135168] The default executor is <PCAModel on cpu(0)>.\u001b[0m\n",
      "\u001b[34m[05/06/2022 03:06:56 INFO 140438325135168] <PCAModel on cpu(0)> is assigned to batch slice from 0 to 1338.\u001b[0m\n",
      "\u001b[34m[05/06/2022 03:06:56 WARNING 140438325135168] Requesting context without setting the requested num of gpus. Using 'auto'\u001b[0m\n",
      "\u001b[34m[05/06/2022 03:06:56 INFO 140438325135168] Number of GPUs being used: 0\u001b[0m\n",
      "\u001b[34m[05/06/2022 03:06:56 INFO 140438325135168] The default executor is <PCAModel on cpu(0)>.\u001b[0m\n",
      "\u001b[34m[05/06/2022 03:06:56 INFO 140438325135168] <PCAModel on cpu(0)> is assigned to batch slice from 0 to 1338.\u001b[0m\n",
      "\u001b[34m[05/06/2022 03:06:56 WARNING 140438325135168] Requesting context without setting the requested num of gpus. Using 'auto'\u001b[0m\n",
      "\u001b[34m[05/06/2022 03:06:56 INFO 140438325135168] Number of GPUs being used: 0\u001b[0m\n",
      "\u001b[34m[05/06/2022 03:06:56 INFO 140438325135168] The default executor is <PCAModel on cpu(0)>.\u001b[0m\n",
      "\u001b[34m[05/06/2022 03:06:56 INFO 140438325135168] <PCAModel on cpu(0)> is assigned to batch slice from 0 to 1338.\u001b[0m\n",
      "\u001b[34m#metrics {\"StartTime\": 1651806413.8483787, \"EndTime\": 1651806416.889224, \"Dimensions\": {\"Algorithm\": \"AlgorithmModel\", \"Host\": \"UNKNOWN\", \"Operation\": \"scoring\"}, \"Metrics\": {\"invocations.count\": {\"sum\": 1.0, \"count\": 1, \"min\": 1, \"max\": 1}}}\u001b[0m\n",
      "\u001b[34m#metrics {\"StartTime\": 1651806411.7864053, \"EndTime\": 1651806417.0253778, \"Dimensions\": {\"Algorithm\": \"AlgorithmModel\", \"Host\": \"UNKNOWN\", \"Operation\": \"scoring\"}, \"Metrics\": {\"invocations.count\": {\"sum\": 1.0, \"count\": 1, \"min\": 1, \"max\": 1}}}\u001b[0m\n",
      "\u001b[34m#metrics {\"StartTime\": 1651806411.9423332, \"EndTime\": 1651806417.0791938, \"Dimensions\": {\"Algorithm\": \"AlgorithmModel\", \"Host\": \"UNKNOWN\", \"Operation\": \"scoring\"}, \"Metrics\": {\"invocations.count\": {\"sum\": 1.0, \"count\": 1, \"min\": 1, \"max\": 1}}}\u001b[0m\n",
      "\u001b[34m#metrics {\"StartTime\": 1651806411.8847315, \"EndTime\": 1651806417.2579346, \"Dimensions\": {\"Algorithm\": \"AlgorithmModel\", \"Host\": \"UNKNOWN\", \"Operation\": \"scoring\"}, \"Metrics\": {\"invocations.count\": {\"sum\": 1.0, \"count\": 1, \"min\": 1, \"max\": 1}}}\u001b[0m\n",
      "\u001b[34m[05/06/2022 03:06:58 WARNING 140438325135168] Requesting context without setting the requested num of gpus. Using 'auto'\u001b[0m\n",
      "\u001b[34m[05/06/2022 03:06:58 INFO 140438325135168] Number of GPUs being used: 0\u001b[0m\n",
      "\u001b[34m[05/06/2022 03:06:58 INFO 140438325135168] The default executor is <PCAModel on cpu(0)>.\u001b[0m\n",
      "\u001b[34m[05/06/2022 03:06:58 INFO 140438325135168] <PCAModel on cpu(0)> is assigned to batch slice from 0 to 1338.\u001b[0m\n",
      "\u001b[34m[05/06/2022 03:06:58 WARNING 140438325135168] Requesting context without setting the requested num of gpus. Using 'auto'\u001b[0m\n",
      "\u001b[34m[05/06/2022 03:06:58 INFO 140438325135168] Number of GPUs being used: 0\u001b[0m\n",
      "\u001b[34m[05/06/2022 03:06:58 INFO 140438325135168] The default executor is <PCAModel on cpu(0)>.\u001b[0m\n",
      "\u001b[34m[05/06/2022 03:06:58 INFO 140438325135168] <PCAModel on cpu(0)> is assigned to batch slice from 0 to 1338.\u001b[0m\n",
      "\u001b[34m[05/06/2022 03:06:58 WARNING 140438325135168] Requesting context without setting the requested num of gpus. Using 'auto'\u001b[0m\n",
      "\u001b[34m[05/06/2022 03:06:58 INFO 140438325135168] Number of GPUs being used: 0\u001b[0m\n",
      "\u001b[34m[05/06/2022 03:06:58 INFO 140438325135168] The default executor is <PCAModel on cpu(0)>.\u001b[0m\n",
      "\u001b[34m[05/06/2022 03:06:58 INFO 140438325135168] <PCAModel on cpu(0)> is assigned to batch slice from 0 to 1338.\u001b[0m\n",
      "\u001b[34m#metrics {\"StartTime\": 1651806416.8897636, \"EndTime\": 1651806418.434465, \"Dimensions\": {\"Algorithm\": \"AlgorithmModel\", \"Host\": \"UNKNOWN\", \"Operation\": \"scoring\"}, \"Metrics\": {\"invocations.count\": {\"sum\": 1.0, \"count\": 1, \"min\": 1, \"max\": 1}}}\u001b[0m\n",
      "\u001b[34m[05/06/2022 03:06:58 WARNING 140438325135168] Requesting context without setting the requested num of gpus. Using 'auto'\u001b[0m\n",
      "\u001b[34m[05/06/2022 03:06:58 INFO 140438325135168] Number of GPUs being used: 0\u001b[0m\n",
      "\u001b[34m[05/06/2022 03:06:58 INFO 140438325135168] The default executor is <PCAModel on cpu(0)>.\u001b[0m\n",
      "\u001b[34m[05/06/2022 03:06:58 INFO 140438325135168] <PCAModel on cpu(0)> is assigned to batch slice from 0 to 1338.\u001b[0m\n",
      "\u001b[34m#metrics {\"StartTime\": 1651806417.0793881, \"EndTime\": 1651806418.5005038, \"Dimensions\": {\"Algorithm\": \"AlgorithmModel\", \"Host\": \"UNKNOWN\", \"Operation\": \"scoring\"}, \"Metrics\": {\"invocations.count\": {\"sum\": 1.0, \"count\": 1, \"min\": 1, \"max\": 1}}}\u001b[0m\n",
      "\u001b[34m#metrics {\"StartTime\": 1651806417.0256171, \"EndTime\": 1651806418.6767855, \"Dimensions\": {\"Algorithm\": \"AlgorithmModel\", \"Host\": \"UNKNOWN\", \"Operation\": \"scoring\"}, \"Metrics\": {\"invocations.count\": {\"sum\": 1.0, \"count\": 1, \"min\": 1, \"max\": 1}}}\u001b[0m\n",
      "\u001b[34m#metrics {\"StartTime\": 1651806417.2581055, \"EndTime\": 1651806418.8485622, \"Dimensions\": {\"Algorithm\": \"AlgorithmModel\", \"Host\": \"UNKNOWN\", \"Operation\": \"scoring\"}, \"Metrics\": {\"invocations.count\": {\"sum\": 1.0, \"count\": 1, \"min\": 1, \"max\": 1}}}\u001b[0m\n",
      "\u001b[34m[05/06/2022 03:06:59 WARNING 140438325135168] Requesting context without setting the requested num of gpus. Using 'auto'\u001b[0m\n",
      "\u001b[34m[05/06/2022 03:06:59 INFO 140438325135168] Number of GPUs being used: 0\u001b[0m\n",
      "\u001b[34m[05/06/2022 03:06:59 INFO 140438325135168] The default executor is <PCAModel on cpu(0)>.\u001b[0m\n",
      "\u001b[34m[05/06/2022 03:06:59 INFO 140438325135168] <PCAModel on cpu(0)> is assigned to batch slice from 0 to 1338.\u001b[0m\n",
      "\u001b[34m[05/06/2022 03:06:59 WARNING 140438325135168] Requesting context without setting the requested num of gpus. Using 'auto'\u001b[0m\n",
      "\u001b[34m[05/06/2022 03:06:59 INFO 140438325135168] Number of GPUs being used: 0\u001b[0m\n",
      "\u001b[34m[05/06/2022 03:06:59 INFO 140438325135168] The default executor is <PCAModel on cpu(0)>.\u001b[0m\n",
      "\u001b[34m[05/06/2022 03:06:59 INFO 140438325135168] <PCAModel on cpu(0)> is assigned to batch slice from 0 to 1338.\u001b[0m\n",
      "\u001b[34m[05/06/2022 03:06:59 WARNING 140438325135168] Requesting context without setting the requested num of gpus. Using 'auto'\u001b[0m\n",
      "\u001b[34m[05/06/2022 03:06:59 INFO 140438325135168] Number of GPUs being used: 0\u001b[0m\n",
      "\u001b[34m[05/06/2022 03:06:59 INFO 140438325135168] The default executor is <PCAModel on cpu(0)>.\u001b[0m\n",
      "\u001b[34m[05/06/2022 03:06:59 INFO 140438325135168] <PCAModel on cpu(0)> is assigned to batch slice from 0 to 1338.\u001b[0m\n",
      "\u001b[34m[05/06/2022 03:06:59 WARNING 140438325135168] Requesting context without setting the requested num of gpus. Using 'auto'\u001b[0m\n",
      "\u001b[34m[05/06/2022 03:06:59 INFO 140438325135168] Number of GPUs being used: 0\u001b[0m\n",
      "\u001b[34m[05/06/2022 03:06:59 INFO 140438325135168] The default executor is <PCAModel on cpu(0)>.\u001b[0m\n",
      "\u001b[34m[05/06/2022 03:06:59 INFO 140438325135168] <PCAModel on cpu(0)> is assigned to batch slice from 0 to 1338.\u001b[0m\n",
      "\u001b[34m#metrics {\"StartTime\": 1651806418.5011384, \"EndTime\": 1651806420.0113194, \"Dimensions\": {\"Algorithm\": \"AlgorithmModel\", \"Host\": \"UNKNOWN\", \"Operation\": \"scoring\"}, \"Metrics\": {\"invocations.count\": {\"sum\": 1.0, \"count\": 1, \"min\": 1, \"max\": 1}}}\u001b[0m\n",
      "\u001b[34m#metrics {\"StartTime\": 1651806418.4351976, \"EndTime\": 1651806420.0178995, \"Dimensions\": {\"Algorithm\": \"AlgorithmModel\", \"Host\": \"UNKNOWN\", \"Operation\": \"scoring\"}, \"Metrics\": {\"invocations.count\": {\"sum\": 1.0, \"count\": 1, \"min\": 1, \"max\": 1}}}\u001b[0m\n",
      "\u001b[34m#metrics {\"StartTime\": 1651806418.6768951, \"EndTime\": 1651806420.1764352, \"Dimensions\": {\"Algorithm\": \"AlgorithmModel\", \"Host\": \"UNKNOWN\", \"Operation\": \"scoring\"}, \"Metrics\": {\"invocations.count\": {\"sum\": 1.0, \"count\": 1, \"min\": 1, \"max\": 1}}}\u001b[0m\n",
      "\u001b[34m#metrics {\"StartTime\": 1651806418.8486896, \"EndTime\": 1651806420.2420533, \"Dimensions\": {\"Algorithm\": \"AlgorithmModel\", \"Host\": \"UNKNOWN\", \"Operation\": \"scoring\"}, \"Metrics\": {\"invocations.count\": {\"sum\": 1.0, \"count\": 1, \"min\": 1, \"max\": 1}}}\u001b[0m\n",
      "\u001b[34m[05/06/2022 03:07:00 WARNING 140438325135168] Requesting context without setting the requested num of gpus. Using 'auto'\u001b[0m\n",
      "\u001b[34m[05/06/2022 03:07:00 INFO 140438325135168] Number of GPUs being used: 0\u001b[0m\n",
      "\u001b[34m[05/06/2022 03:07:00 INFO 140438325135168] The default executor is <PCAModel on cpu(0)>.\u001b[0m\n",
      "\u001b[34m[05/06/2022 03:07:00 INFO 140438325135168] <PCAModel on cpu(0)> is assigned to batch slice from 0 to 853.\u001b[0m\n",
      "\u001b[34m#metrics {\"StartTime\": 1651806420.0120673, \"EndTime\": 1651806420.5581203, \"Dimensions\": {\"Algorithm\": \"AlgorithmModel\", \"Host\": \"UNKNOWN\", \"Operation\": \"scoring\"}, \"Metrics\": {\"invocations.count\": {\"sum\": 1.0, \"count\": 1, \"min\": 1, \"max\": 1}}}\u001b[0m\n",
      "\n",
      "\u001b[32m2022-05-06T03:06:53.857:[sagemaker logs]: MaxConcurrentTransforms=4, MaxPayloadInMB=6, BatchStrategy=MULTI_RECORD\u001b[0m\n",
      "\u001b[34mDocker entrypoint called with argument(s): serve\u001b[0m\n",
      "\u001b[34mRunning default environment configuration script\u001b[0m\n",
      "\u001b[35mDocker entrypoint called with argument(s): serve\u001b[0m\n",
      "\u001b[35mRunning default environment configuration script\u001b[0m\n",
      "\u001b[34m[05/06/2022 03:06:51 INFO 140438325135168] loaded entry point class algorithm.serve.server_config:config_api\u001b[0m\n",
      "\u001b[34m[05/06/2022 03:06:51 INFO 140438325135168] nvidia-smi: took 0.031 seconds to run.\u001b[0m\n",
      "\u001b[34m[05/06/2022 03:06:51 INFO 140438325135168] nvidia-smi identified 0 GPUs.\u001b[0m\n",
      "\u001b[34m[05/06/2022 03:06:51 INFO 140438325135168] loading entry points\u001b[0m\n",
      "\u001b[34m[05/06/2022 03:06:51 INFO 140438325135168] Loaded iterator creator application/x-labeled-vector-protobuf for content type ('application/x-labeled-vector-protobuf', '1.0')\u001b[0m\n",
      "\u001b[34m[05/06/2022 03:06:51 INFO 140438325135168] Loaded iterator creator application/x-recordio-protobuf for content type ('application/x-recordio-protobuf', '1.0')\u001b[0m\n",
      "\u001b[34m[05/06/2022 03:06:51 INFO 140438325135168] Loaded iterator creator protobuf for content type ('protobuf', '1.0')\u001b[0m\n",
      "\u001b[34m[05/06/2022 03:06:51 INFO 140438325135168] loaded request iterator application/json\u001b[0m\n",
      "\u001b[34m[05/06/2022 03:06:51 INFO 140438325135168] loaded request iterator application/jsonlines\u001b[0m\n",
      "\u001b[34m[05/06/2022 03:06:51 INFO 140438325135168] loaded request iterator application/x-recordio-protobuf\u001b[0m\n",
      "\u001b[34m[05/06/2022 03:06:51 INFO 140438325135168] loaded request iterator text/csv\u001b[0m\n",
      "\u001b[34m[05/06/2022 03:06:51 INFO 140438325135168] loaded response encoder application/json\u001b[0m\n",
      "\u001b[34m[05/06/2022 03:06:51 INFO 140438325135168] loaded response encoder application/jsonlines\u001b[0m\n",
      "\u001b[35m[05/06/2022 03:06:51 INFO 140438325135168] loaded entry point class algorithm.serve.server_config:config_api\u001b[0m\n",
      "\u001b[35m[05/06/2022 03:06:51 INFO 140438325135168] nvidia-smi: took 0.031 seconds to run.\u001b[0m\n",
      "\u001b[35m[05/06/2022 03:06:51 INFO 140438325135168] nvidia-smi identified 0 GPUs.\u001b[0m\n",
      "\u001b[35m[05/06/2022 03:06:51 INFO 140438325135168] loading entry points\u001b[0m\n",
      "\u001b[35m[05/06/2022 03:06:51 INFO 140438325135168] Loaded iterator creator application/x-labeled-vector-protobuf for content type ('application/x-labeled-vector-protobuf', '1.0')\u001b[0m\n",
      "\u001b[35m[05/06/2022 03:06:51 INFO 140438325135168] Loaded iterator creator application/x-recordio-protobuf for content type ('application/x-recordio-protobuf', '1.0')\u001b[0m\n",
      "\u001b[35m[05/06/2022 03:06:51 INFO 140438325135168] Loaded iterator creator protobuf for content type ('protobuf', '1.0')\u001b[0m\n",
      "\u001b[35m[05/06/2022 03:06:51 INFO 140438325135168] loaded request iterator application/json\u001b[0m\n",
      "\u001b[35m[05/06/2022 03:06:51 INFO 140438325135168] loaded request iterator application/jsonlines\u001b[0m\n",
      "\u001b[35m[05/06/2022 03:06:51 INFO 140438325135168] loaded request iterator application/x-recordio-protobuf\u001b[0m\n",
      "\u001b[35m[05/06/2022 03:06:51 INFO 140438325135168] loaded request iterator text/csv\u001b[0m\n",
      "\u001b[35m[05/06/2022 03:06:51 INFO 140438325135168] loaded response encoder application/json\u001b[0m\n",
      "\u001b[35m[05/06/2022 03:06:51 INFO 140438325135168] loaded response encoder application/jsonlines\u001b[0m\n",
      "\u001b[34m[05/06/2022 03:06:51 INFO 140438325135168] loaded response encoder application/x-recordio-protobuf\u001b[0m\n",
      "\u001b[34m[05/06/2022 03:06:51 INFO 140438325135168] loaded entry point class algorithm:model\u001b[0m\n",
      "\u001b[34m[05/06/2022 03:06:51 INFO 140438325135168] Loaded iterator creator application/x-labeled-vector-protobuf for content type ('application/x-labeled-vector-protobuf', '1.0')\u001b[0m\n",
      "\u001b[34m[05/06/2022 03:06:51 INFO 140438325135168] Loaded iterator creator application/x-recordio-protobuf for content type ('application/x-recordio-protobuf', '1.0')\u001b[0m\n",
      "\u001b[34m[05/06/2022 03:06:51 INFO 140438325135168] Loaded iterator creator protobuf for content type ('protobuf', '1.0')\u001b[0m\n",
      "\u001b[34m[05/06/2022 03:06:51 INFO 140438325135168] Number of server workers: 4\u001b[0m\n",
      "\u001b[34m[2022-05-06 03:06:51 +0000] [1] [INFO] Starting gunicorn 20.1.0\u001b[0m\n",
      "\u001b[34m[2022-05-06 03:06:51 +0000] [1] [INFO] Listening at: http://0.0.0.0:8080 (1)\u001b[0m\n",
      "\u001b[34m[2022-05-06 03:06:51 +0000] [1] [INFO] Using worker: sync\u001b[0m\n",
      "\u001b[34m[2022-05-06 03:06:51 +0000] [55] [INFO] Booting worker with pid: 55\u001b[0m\n",
      "\u001b[34m[05/06/2022 03:06:51 INFO 140438325135168] loading model...\u001b[0m\n",
      "\u001b[34m[05/06/2022 03:06:51 INFO 140438325135168] ...model loaded.\u001b[0m\n",
      "\u001b[34m[2022-05-06 03:06:51 +0000] [66] [INFO] Booting worker with pid: 66\u001b[0m\n",
      "\u001b[34m[05/06/2022 03:06:51 INFO 140438325135168] loading model...\u001b[0m\n",
      "\u001b[34m[05/06/2022 03:06:51 INFO 140438325135168] ...model loaded.\u001b[0m\n",
      "\u001b[34m[2022-05-06 03:06:51 +0000] [77] [INFO] Booting worker with pid: 77\u001b[0m\n",
      "\u001b[34m[05/06/2022 03:06:51 INFO 140438325135168] loading model...\u001b[0m\n",
      "\u001b[34m[05/06/2022 03:06:51 INFO 140438325135168] ...model loaded.\u001b[0m\n",
      "\u001b[34m[2022-05-06 03:06:51 +0000] [87] [INFO] Booting worker with pid: 87\u001b[0m\n",
      "\u001b[34m[05/06/2022 03:06:51 INFO 140438325135168] loading model...\u001b[0m\n",
      "\u001b[35m[05/06/2022 03:06:51 INFO 140438325135168] loaded response encoder application/x-recordio-protobuf\u001b[0m\n",
      "\u001b[35m[05/06/2022 03:06:51 INFO 140438325135168] loaded entry point class algorithm:model\u001b[0m\n",
      "\u001b[35m[05/06/2022 03:06:51 INFO 140438325135168] Loaded iterator creator application/x-labeled-vector-protobuf for content type ('application/x-labeled-vector-protobuf', '1.0')\u001b[0m\n",
      "\u001b[35m[05/06/2022 03:06:51 INFO 140438325135168] Loaded iterator creator application/x-recordio-protobuf for content type ('application/x-recordio-protobuf', '1.0')\u001b[0m\n",
      "\u001b[35m[05/06/2022 03:06:51 INFO 140438325135168] Loaded iterator creator protobuf for content type ('protobuf', '1.0')\u001b[0m\n",
      "\u001b[35m[05/06/2022 03:06:51 INFO 140438325135168] Number of server workers: 4\u001b[0m\n",
      "\u001b[35m[2022-05-06 03:06:51 +0000] [1] [INFO] Starting gunicorn 20.1.0\u001b[0m\n",
      "\u001b[35m[2022-05-06 03:06:51 +0000] [1] [INFO] Listening at: http://0.0.0.0:8080 (1)\u001b[0m\n",
      "\u001b[35m[2022-05-06 03:06:51 +0000] [1] [INFO] Using worker: sync\u001b[0m\n",
      "\u001b[35m[2022-05-06 03:06:51 +0000] [55] [INFO] Booting worker with pid: 55\u001b[0m\n",
      "\u001b[35m[05/06/2022 03:06:51 INFO 140438325135168] loading model...\u001b[0m\n",
      "\u001b[35m[05/06/2022 03:06:51 INFO 140438325135168] ...model loaded.\u001b[0m\n",
      "\u001b[35m[2022-05-06 03:06:51 +0000] [66] [INFO] Booting worker with pid: 66\u001b[0m\n",
      "\u001b[35m[05/06/2022 03:06:51 INFO 140438325135168] loading model...\u001b[0m\n",
      "\u001b[35m[05/06/2022 03:06:51 INFO 140438325135168] ...model loaded.\u001b[0m\n",
      "\u001b[35m[2022-05-06 03:06:51 +0000] [77] [INFO] Booting worker with pid: 77\u001b[0m\n",
      "\u001b[35m[05/06/2022 03:06:51 INFO 140438325135168] loading model...\u001b[0m\n",
      "\u001b[35m[05/06/2022 03:06:51 INFO 140438325135168] ...model loaded.\u001b[0m\n",
      "\u001b[35m[2022-05-06 03:06:51 +0000] [87] [INFO] Booting worker with pid: 87\u001b[0m\n",
      "\u001b[35m[05/06/2022 03:06:51 INFO 140438325135168] loading model...\u001b[0m\n",
      "\u001b[34m[05/06/2022 03:06:51 INFO 140438325135168] ...model loaded.\u001b[0m\n",
      "\u001b[35m[05/06/2022 03:06:51 INFO 140438325135168] ...model loaded.\u001b[0m\n",
      "\u001b[34m#metrics {\"StartTime\": 1651806411.9636323, \"EndTime\": 1651806413.848196, \"Dimensions\": {\"Algorithm\": \"AlgorithmModel\", \"Host\": \"UNKNOWN\", \"Operation\": \"scoring\"}, \"Metrics\": {\"execution_parameters.count\": {\"sum\": 1.0, \"count\": 1, \"min\": 1, \"max\": 1}}}\u001b[0m\n",
      "\u001b[35m#metrics {\"StartTime\": 1651806411.9636323, \"EndTime\": 1651806413.848196, \"Dimensions\": {\"Algorithm\": \"AlgorithmModel\", \"Host\": \"UNKNOWN\", \"Operation\": \"scoring\"}, \"Metrics\": {\"execution_parameters.count\": {\"sum\": 1.0, \"count\": 1, \"min\": 1, \"max\": 1}}}\u001b[0m\n",
      "\u001b[34m[05/06/2022 03:06:56 WARNING 140438325135168] Requesting context without setting the requested num of gpus. Using 'auto'\u001b[0m\n",
      "\u001b[34m[05/06/2022 03:06:56 INFO 140438325135168] Number of GPUs being used: 0\u001b[0m\n",
      "\u001b[34m[05/06/2022 03:06:56 INFO 140438325135168] The default executor is <PCAModel on cpu(0)>.\u001b[0m\n",
      "\u001b[34m[05/06/2022 03:06:56 INFO 140438325135168] <PCAModel on cpu(0)> is assigned to batch slice from 0 to 1338.\u001b[0m\n",
      "\u001b[34m[05/06/2022 03:06:56 WARNING 140438325135168] Requesting context without setting the requested num of gpus. Using 'auto'\u001b[0m\n",
      "\u001b[34m[05/06/2022 03:06:56 INFO 140438325135168] Number of GPUs being used: 0\u001b[0m\n",
      "\u001b[34m[05/06/2022 03:06:56 INFO 140438325135168] The default executor is <PCAModel on cpu(0)>.\u001b[0m\n",
      "\u001b[34m[05/06/2022 03:06:56 INFO 140438325135168] <PCAModel on cpu(0)> is assigned to batch slice from 0 to 1338.\u001b[0m\n",
      "\u001b[34m[05/06/2022 03:06:56 WARNING 140438325135168] Requesting context without setting the requested num of gpus. Using 'auto'\u001b[0m\n",
      "\u001b[34m[05/06/2022 03:06:56 INFO 140438325135168] Number of GPUs being used: 0\u001b[0m\n",
      "\u001b[34m[05/06/2022 03:06:56 INFO 140438325135168] The default executor is <PCAModel on cpu(0)>.\u001b[0m\n",
      "\u001b[34m[05/06/2022 03:06:56 INFO 140438325135168] <PCAModel on cpu(0)> is assigned to batch slice from 0 to 1338.\u001b[0m\n",
      "\u001b[34m[05/06/2022 03:06:56 WARNING 140438325135168] Requesting context without setting the requested num of gpus. Using 'auto'\u001b[0m\n",
      "\u001b[35m[05/06/2022 03:06:56 WARNING 140438325135168] Requesting context without setting the requested num of gpus. Using 'auto'\u001b[0m\n",
      "\u001b[35m[05/06/2022 03:06:56 INFO 140438325135168] Number of GPUs being used: 0\u001b[0m\n",
      "\u001b[35m[05/06/2022 03:06:56 INFO 140438325135168] The default executor is <PCAModel on cpu(0)>.\u001b[0m\n",
      "\u001b[35m[05/06/2022 03:06:56 INFO 140438325135168] <PCAModel on cpu(0)> is assigned to batch slice from 0 to 1338.\u001b[0m\n",
      "\u001b[35m[05/06/2022 03:06:56 WARNING 140438325135168] Requesting context without setting the requested num of gpus. Using 'auto'\u001b[0m\n",
      "\u001b[35m[05/06/2022 03:06:56 INFO 140438325135168] Number of GPUs being used: 0\u001b[0m\n",
      "\u001b[35m[05/06/2022 03:06:56 INFO 140438325135168] The default executor is <PCAModel on cpu(0)>.\u001b[0m\n",
      "\u001b[35m[05/06/2022 03:06:56 INFO 140438325135168] <PCAModel on cpu(0)> is assigned to batch slice from 0 to 1338.\u001b[0m\n",
      "\u001b[35m[05/06/2022 03:06:56 WARNING 140438325135168] Requesting context without setting the requested num of gpus. Using 'auto'\u001b[0m\n",
      "\u001b[35m[05/06/2022 03:06:56 INFO 140438325135168] Number of GPUs being used: 0\u001b[0m\n",
      "\u001b[35m[05/06/2022 03:06:56 INFO 140438325135168] The default executor is <PCAModel on cpu(0)>.\u001b[0m\n",
      "\u001b[35m[05/06/2022 03:06:56 INFO 140438325135168] <PCAModel on cpu(0)> is assigned to batch slice from 0 to 1338.\u001b[0m\n",
      "\u001b[35m[05/06/2022 03:06:56 WARNING 140438325135168] Requesting context without setting the requested num of gpus. Using 'auto'\u001b[0m\n",
      "\u001b[34m[05/06/2022 03:06:56 INFO 140438325135168] Number of GPUs being used: 0\u001b[0m\n",
      "\u001b[34m[05/06/2022 03:06:56 INFO 140438325135168] The default executor is <PCAModel on cpu(0)>.\u001b[0m\n",
      "\u001b[34m[05/06/2022 03:06:56 INFO 140438325135168] <PCAModel on cpu(0)> is assigned to batch slice from 0 to 1338.\u001b[0m\n",
      "\u001b[34m#metrics {\"StartTime\": 1651806413.8483787, \"EndTime\": 1651806416.889224, \"Dimensions\": {\"Algorithm\": \"AlgorithmModel\", \"Host\": \"UNKNOWN\", \"Operation\": \"scoring\"}, \"Metrics\": {\"invocations.count\": {\"sum\": 1.0, \"count\": 1, \"min\": 1, \"max\": 1}}}\u001b[0m\n",
      "\u001b[34m#metrics {\"StartTime\": 1651806411.7864053, \"EndTime\": 1651806417.0253778, \"Dimensions\": {\"Algorithm\": \"AlgorithmModel\", \"Host\": \"UNKNOWN\", \"Operation\": \"scoring\"}, \"Metrics\": {\"invocations.count\": {\"sum\": 1.0, \"count\": 1, \"min\": 1, \"max\": 1}}}\u001b[0m\n",
      "\u001b[34m#metrics {\"StartTime\": 1651806411.9423332, \"EndTime\": 1651806417.0791938, \"Dimensions\": {\"Algorithm\": \"AlgorithmModel\", \"Host\": \"UNKNOWN\", \"Operation\": \"scoring\"}, \"Metrics\": {\"invocations.count\": {\"sum\": 1.0, \"count\": 1, \"min\": 1, \"max\": 1}}}\u001b[0m\n",
      "\u001b[34m#metrics {\"StartTime\": 1651806411.8847315, \"EndTime\": 1651806417.2579346, \"Dimensions\": {\"Algorithm\": \"AlgorithmModel\", \"Host\": \"UNKNOWN\", \"Operation\": \"scoring\"}, \"Metrics\": {\"invocations.count\": {\"sum\": 1.0, \"count\": 1, \"min\": 1, \"max\": 1}}}\u001b[0m\n",
      "\u001b[35m[05/06/2022 03:06:56 INFO 140438325135168] Number of GPUs being used: 0\u001b[0m\n",
      "\u001b[35m[05/06/2022 03:06:56 INFO 140438325135168] The default executor is <PCAModel on cpu(0)>.\u001b[0m\n",
      "\u001b[35m[05/06/2022 03:06:56 INFO 140438325135168] <PCAModel on cpu(0)> is assigned to batch slice from 0 to 1338.\u001b[0m\n",
      "\u001b[35m#metrics {\"StartTime\": 1651806413.8483787, \"EndTime\": 1651806416.889224, \"Dimensions\": {\"Algorithm\": \"AlgorithmModel\", \"Host\": \"UNKNOWN\", \"Operation\": \"scoring\"}, \"Metrics\": {\"invocations.count\": {\"sum\": 1.0, \"count\": 1, \"min\": 1, \"max\": 1}}}\u001b[0m\n",
      "\u001b[35m#metrics {\"StartTime\": 1651806411.7864053, \"EndTime\": 1651806417.0253778, \"Dimensions\": {\"Algorithm\": \"AlgorithmModel\", \"Host\": \"UNKNOWN\", \"Operation\": \"scoring\"}, \"Metrics\": {\"invocations.count\": {\"sum\": 1.0, \"count\": 1, \"min\": 1, \"max\": 1}}}\u001b[0m\n",
      "\u001b[35m#metrics {\"StartTime\": 1651806411.9423332, \"EndTime\": 1651806417.0791938, \"Dimensions\": {\"Algorithm\": \"AlgorithmModel\", \"Host\": \"UNKNOWN\", \"Operation\": \"scoring\"}, \"Metrics\": {\"invocations.count\": {\"sum\": 1.0, \"count\": 1, \"min\": 1, \"max\": 1}}}\u001b[0m\n",
      "\u001b[35m#metrics {\"StartTime\": 1651806411.8847315, \"EndTime\": 1651806417.2579346, \"Dimensions\": {\"Algorithm\": \"AlgorithmModel\", \"Host\": \"UNKNOWN\", \"Operation\": \"scoring\"}, \"Metrics\": {\"invocations.count\": {\"sum\": 1.0, \"count\": 1, \"min\": 1, \"max\": 1}}}\u001b[0m\n",
      "\u001b[32m2022-05-06T03:06:53.857:[sagemaker logs]: MaxConcurrentTransforms=4, MaxPayloadInMB=6, BatchStrategy=MULTI_RECORD\u001b[0m\n",
      "\u001b[34m[05/06/2022 03:06:58 WARNING 140438325135168] Requesting context without setting the requested num of gpus. Using 'auto'\u001b[0m\n",
      "\u001b[34m[05/06/2022 03:06:58 INFO 140438325135168] Number of GPUs being used: 0\u001b[0m\n",
      "\u001b[34m[05/06/2022 03:06:58 INFO 140438325135168] The default executor is <PCAModel on cpu(0)>.\u001b[0m\n",
      "\u001b[34m[05/06/2022 03:06:58 INFO 140438325135168] <PCAModel on cpu(0)> is assigned to batch slice from 0 to 1338.\u001b[0m\n",
      "\u001b[34m[05/06/2022 03:06:58 WARNING 140438325135168] Requesting context without setting the requested num of gpus. Using 'auto'\u001b[0m\n",
      "\u001b[34m[05/06/2022 03:06:58 INFO 140438325135168] Number of GPUs being used: 0\u001b[0m\n",
      "\u001b[34m[05/06/2022 03:06:58 INFO 140438325135168] The default executor is <PCAModel on cpu(0)>.\u001b[0m\n",
      "\u001b[35m[05/06/2022 03:06:58 WARNING 140438325135168] Requesting context without setting the requested num of gpus. Using 'auto'\u001b[0m\n",
      "\u001b[35m[05/06/2022 03:06:58 INFO 140438325135168] Number of GPUs being used: 0\u001b[0m\n",
      "\u001b[35m[05/06/2022 03:06:58 INFO 140438325135168] The default executor is <PCAModel on cpu(0)>.\u001b[0m\n",
      "\u001b[35m[05/06/2022 03:06:58 INFO 140438325135168] <PCAModel on cpu(0)> is assigned to batch slice from 0 to 1338.\u001b[0m\n",
      "\u001b[35m[05/06/2022 03:06:58 WARNING 140438325135168] Requesting context without setting the requested num of gpus. Using 'auto'\u001b[0m\n",
      "\u001b[35m[05/06/2022 03:06:58 INFO 140438325135168] Number of GPUs being used: 0\u001b[0m\n",
      "\u001b[35m[05/06/2022 03:06:58 INFO 140438325135168] The default executor is <PCAModel on cpu(0)>.\u001b[0m\n",
      "\u001b[34m[05/06/2022 03:06:58 INFO 140438325135168] <PCAModel on cpu(0)> is assigned to batch slice from 0 to 1338.\u001b[0m\n",
      "\u001b[34m[05/06/2022 03:06:58 WARNING 140438325135168] Requesting context without setting the requested num of gpus. Using 'auto'\u001b[0m\n",
      "\u001b[34m[05/06/2022 03:06:58 INFO 140438325135168] Number of GPUs being used: 0\u001b[0m\n",
      "\u001b[34m[05/06/2022 03:06:58 INFO 140438325135168] The default executor is <PCAModel on cpu(0)>.\u001b[0m\n",
      "\u001b[34m[05/06/2022 03:06:58 INFO 140438325135168] <PCAModel on cpu(0)> is assigned to batch slice from 0 to 1338.\u001b[0m\n",
      "\u001b[35m[05/06/2022 03:06:58 INFO 140438325135168] <PCAModel on cpu(0)> is assigned to batch slice from 0 to 1338.\u001b[0m\n",
      "\u001b[35m[05/06/2022 03:06:58 WARNING 140438325135168] Requesting context without setting the requested num of gpus. Using 'auto'\u001b[0m\n",
      "\u001b[35m[05/06/2022 03:06:58 INFO 140438325135168] Number of GPUs being used: 0\u001b[0m\n",
      "\u001b[35m[05/06/2022 03:06:58 INFO 140438325135168] The default executor is <PCAModel on cpu(0)>.\u001b[0m\n",
      "\u001b[35m[05/06/2022 03:06:58 INFO 140438325135168] <PCAModel on cpu(0)> is assigned to batch slice from 0 to 1338.\u001b[0m\n",
      "\u001b[34m#metrics {\"StartTime\": 1651806416.8897636, \"EndTime\": 1651806418.434465, \"Dimensions\": {\"Algorithm\": \"AlgorithmModel\", \"Host\": \"UNKNOWN\", \"Operation\": \"scoring\"}, \"Metrics\": {\"invocations.count\": {\"sum\": 1.0, \"count\": 1, \"min\": 1, \"max\": 1}}}\u001b[0m\n",
      "\u001b[34m[05/06/2022 03:06:58 WARNING 140438325135168] Requesting context without setting the requested num of gpus. Using 'auto'\u001b[0m\n",
      "\u001b[34m[05/06/2022 03:06:58 INFO 140438325135168] Number of GPUs being used: 0\u001b[0m\n",
      "\u001b[34m[05/06/2022 03:06:58 INFO 140438325135168] The default executor is <PCAModel on cpu(0)>.\u001b[0m\n",
      "\u001b[34m[05/06/2022 03:06:58 INFO 140438325135168] <PCAModel on cpu(0)> is assigned to batch slice from 0 to 1338.\u001b[0m\n",
      "\u001b[34m#metrics {\"StartTime\": 1651806417.0793881, \"EndTime\": 1651806418.5005038, \"Dimensions\": {\"Algorithm\": \"AlgorithmModel\", \"Host\": \"UNKNOWN\", \"Operation\": \"scoring\"}, \"Metrics\": {\"invocations.count\": {\"sum\": 1.0, \"count\": 1, \"min\": 1, \"max\": 1}}}\u001b[0m\n",
      "\u001b[35m#metrics {\"StartTime\": 1651806416.8897636, \"EndTime\": 1651806418.434465, \"Dimensions\": {\"Algorithm\": \"AlgorithmModel\", \"Host\": \"UNKNOWN\", \"Operation\": \"scoring\"}, \"Metrics\": {\"invocations.count\": {\"sum\": 1.0, \"count\": 1, \"min\": 1, \"max\": 1}}}\u001b[0m\n",
      "\u001b[35m[05/06/2022 03:06:58 WARNING 140438325135168] Requesting context without setting the requested num of gpus. Using 'auto'\u001b[0m\n",
      "\u001b[35m[05/06/2022 03:06:58 INFO 140438325135168] Number of GPUs being used: 0\u001b[0m\n",
      "\u001b[35m[05/06/2022 03:06:58 INFO 140438325135168] The default executor is <PCAModel on cpu(0)>.\u001b[0m\n",
      "\u001b[35m[05/06/2022 03:06:58 INFO 140438325135168] <PCAModel on cpu(0)> is assigned to batch slice from 0 to 1338.\u001b[0m\n",
      "\u001b[35m#metrics {\"StartTime\": 1651806417.0793881, \"EndTime\": 1651806418.5005038, \"Dimensions\": {\"Algorithm\": \"AlgorithmModel\", \"Host\": \"UNKNOWN\", \"Operation\": \"scoring\"}, \"Metrics\": {\"invocations.count\": {\"sum\": 1.0, \"count\": 1, \"min\": 1, \"max\": 1}}}\u001b[0m\n",
      "\u001b[34m#metrics {\"StartTime\": 1651806417.0256171, \"EndTime\": 1651806418.6767855, \"Dimensions\": {\"Algorithm\": \"AlgorithmModel\", \"Host\": \"UNKNOWN\", \"Operation\": \"scoring\"}, \"Metrics\": {\"invocations.count\": {\"sum\": 1.0, \"count\": 1, \"min\": 1, \"max\": 1}}}\u001b[0m\n",
      "\u001b[34m#metrics {\"StartTime\": 1651806417.2581055, \"EndTime\": 1651806418.8485622, \"Dimensions\": {\"Algorithm\": \"AlgorithmModel\", \"Host\": \"UNKNOWN\", \"Operation\": \"scoring\"}, \"Metrics\": {\"invocations.count\": {\"sum\": 1.0, \"count\": 1, \"min\": 1, \"max\": 1}}}\u001b[0m\n",
      "\u001b[35m#metrics {\"StartTime\": 1651806417.0256171, \"EndTime\": 1651806418.6767855, \"Dimensions\": {\"Algorithm\": \"AlgorithmModel\", \"Host\": \"UNKNOWN\", \"Operation\": \"scoring\"}, \"Metrics\": {\"invocations.count\": {\"sum\": 1.0, \"count\": 1, \"min\": 1, \"max\": 1}}}\u001b[0m\n",
      "\u001b[35m#metrics {\"StartTime\": 1651806417.2581055, \"EndTime\": 1651806418.8485622, \"Dimensions\": {\"Algorithm\": \"AlgorithmModel\", \"Host\": \"UNKNOWN\", \"Operation\": \"scoring\"}, \"Metrics\": {\"invocations.count\": {\"sum\": 1.0, \"count\": 1, \"min\": 1, \"max\": 1}}}\u001b[0m\n",
      "\u001b[34m[05/06/2022 03:06:59 WARNING 140438325135168] Requesting context without setting the requested num of gpus. Using 'auto'\u001b[0m\n",
      "\u001b[34m[05/06/2022 03:06:59 INFO 140438325135168] Number of GPUs being used: 0\u001b[0m\n",
      "\u001b[34m[05/06/2022 03:06:59 INFO 140438325135168] The default executor is <PCAModel on cpu(0)>.\u001b[0m\n",
      "\u001b[34m[05/06/2022 03:06:59 INFO 140438325135168] <PCAModel on cpu(0)> is assigned to batch slice from 0 to 1338.\u001b[0m\n",
      "\u001b[34m[05/06/2022 03:06:59 WARNING 140438325135168] Requesting context without setting the requested num of gpus. Using 'auto'\u001b[0m\n",
      "\u001b[34m[05/06/2022 03:06:59 INFO 140438325135168] Number of GPUs being used: 0\u001b[0m\n",
      "\u001b[34m[05/06/2022 03:06:59 INFO 140438325135168] The default executor is <PCAModel on cpu(0)>.\u001b[0m\n",
      "\u001b[34m[05/06/2022 03:06:59 INFO 140438325135168] <PCAModel on cpu(0)> is assigned to batch slice from 0 to 1338.\u001b[0m\n",
      "\u001b[34m[05/06/2022 03:06:59 WARNING 140438325135168] Requesting context without setting the requested num of gpus. Using 'auto'\u001b[0m\n",
      "\u001b[34m[05/06/2022 03:06:59 INFO 140438325135168] Number of GPUs being used: 0\u001b[0m\n",
      "\u001b[34m[05/06/2022 03:06:59 INFO 140438325135168] The default executor is <PCAModel on cpu(0)>.\u001b[0m\n",
      "\u001b[34m[05/06/2022 03:06:59 INFO 140438325135168] <PCAModel on cpu(0)> is assigned to batch slice from 0 to 1338.\u001b[0m\n",
      "\u001b[34m[05/06/2022 03:06:59 WARNING 140438325135168] Requesting context without setting the requested num of gpus. Using 'auto'\u001b[0m\n",
      "\u001b[34m[05/06/2022 03:06:59 INFO 140438325135168] Number of GPUs being used: 0\u001b[0m\n",
      "\u001b[34m[05/06/2022 03:06:59 INFO 140438325135168] The default executor is <PCAModel on cpu(0)>.\u001b[0m\n",
      "\u001b[34m[05/06/2022 03:06:59 INFO 140438325135168] <PCAModel on cpu(0)> is assigned to batch slice from 0 to 1338.\u001b[0m\n",
      "\u001b[34m#metrics {\"StartTime\": 1651806418.5011384, \"EndTime\": 1651806420.0113194, \"Dimensions\": {\"Algorithm\": \"AlgorithmModel\", \"Host\": \"UNKNOWN\", \"Operation\": \"scoring\"}, \"Metrics\": {\"invocations.count\": {\"sum\": 1.0, \"count\": 1, \"min\": 1, \"max\": 1}}}\u001b[0m\n",
      "\u001b[34m#metrics {\"StartTime\": 1651806418.4351976, \"EndTime\": 1651806420.0178995, \"Dimensions\": {\"Algorithm\": \"AlgorithmModel\", \"Host\": \"UNKNOWN\", \"Operation\": \"scoring\"}, \"Metrics\": {\"invocations.count\": {\"sum\": 1.0, \"count\": 1, \"min\": 1, \"max\": 1}}}\u001b[0m\n",
      "\u001b[35m[05/06/2022 03:06:59 WARNING 140438325135168] Requesting context without setting the requested num of gpus. Using 'auto'\u001b[0m\n",
      "\u001b[35m[05/06/2022 03:06:59 INFO 140438325135168] Number of GPUs being used: 0\u001b[0m\n",
      "\u001b[35m[05/06/2022 03:06:59 INFO 140438325135168] The default executor is <PCAModel on cpu(0)>.\u001b[0m\n",
      "\u001b[35m[05/06/2022 03:06:59 INFO 140438325135168] <PCAModel on cpu(0)> is assigned to batch slice from 0 to 1338.\u001b[0m\n",
      "\u001b[35m[05/06/2022 03:06:59 WARNING 140438325135168] Requesting context without setting the requested num of gpus. Using 'auto'\u001b[0m\n",
      "\u001b[35m[05/06/2022 03:06:59 INFO 140438325135168] Number of GPUs being used: 0\u001b[0m\n",
      "\u001b[35m[05/06/2022 03:06:59 INFO 140438325135168] The default executor is <PCAModel on cpu(0)>.\u001b[0m\n",
      "\u001b[35m[05/06/2022 03:06:59 INFO 140438325135168] <PCAModel on cpu(0)> is assigned to batch slice from 0 to 1338.\u001b[0m\n",
      "\u001b[35m[05/06/2022 03:06:59 WARNING 140438325135168] Requesting context without setting the requested num of gpus. Using 'auto'\u001b[0m\n",
      "\u001b[35m[05/06/2022 03:06:59 INFO 140438325135168] Number of GPUs being used: 0\u001b[0m\n",
      "\u001b[35m[05/06/2022 03:06:59 INFO 140438325135168] The default executor is <PCAModel on cpu(0)>.\u001b[0m\n",
      "\u001b[35m[05/06/2022 03:06:59 INFO 140438325135168] <PCAModel on cpu(0)> is assigned to batch slice from 0 to 1338.\u001b[0m\n",
      "\u001b[35m[05/06/2022 03:06:59 WARNING 140438325135168] Requesting context without setting the requested num of gpus. Using 'auto'\u001b[0m\n",
      "\u001b[35m[05/06/2022 03:06:59 INFO 140438325135168] Number of GPUs being used: 0\u001b[0m\n",
      "\u001b[35m[05/06/2022 03:06:59 INFO 140438325135168] The default executor is <PCAModel on cpu(0)>.\u001b[0m\n",
      "\u001b[35m[05/06/2022 03:06:59 INFO 140438325135168] <PCAModel on cpu(0)> is assigned to batch slice from 0 to 1338.\u001b[0m\n",
      "\u001b[35m#metrics {\"StartTime\": 1651806418.5011384, \"EndTime\": 1651806420.0113194, \"Dimensions\": {\"Algorithm\": \"AlgorithmModel\", \"Host\": \"UNKNOWN\", \"Operation\": \"scoring\"}, \"Metrics\": {\"invocations.count\": {\"sum\": 1.0, \"count\": 1, \"min\": 1, \"max\": 1}}}\u001b[0m\n",
      "\u001b[35m#metrics {\"StartTime\": 1651806418.4351976, \"EndTime\": 1651806420.0178995, \"Dimensions\": {\"Algorithm\": \"AlgorithmModel\", \"Host\": \"UNKNOWN\", \"Operation\": \"scoring\"}, \"Metrics\": {\"invocations.count\": {\"sum\": 1.0, \"count\": 1, \"min\": 1, \"max\": 1}}}\u001b[0m\n",
      "\u001b[34m#metrics {\"StartTime\": 1651806418.6768951, \"EndTime\": 1651806420.1764352, \"Dimensions\": {\"Algorithm\": \"AlgorithmModel\", \"Host\": \"UNKNOWN\", \"Operation\": \"scoring\"}, \"Metrics\": {\"invocations.count\": {\"sum\": 1.0, \"count\": 1, \"min\": 1, \"max\": 1}}}\u001b[0m\n",
      "\u001b[34m#metrics {\"StartTime\": 1651806418.8486896, \"EndTime\": 1651806420.2420533, \"Dimensions\": {\"Algorithm\": \"AlgorithmModel\", \"Host\": \"UNKNOWN\", \"Operation\": \"scoring\"}, \"Metrics\": {\"invocations.count\": {\"sum\": 1.0, \"count\": 1, \"min\": 1, \"max\": 1}}}\u001b[0m\n",
      "\u001b[35m#metrics {\"StartTime\": 1651806418.6768951, \"EndTime\": 1651806420.1764352, \"Dimensions\": {\"Algorithm\": \"AlgorithmModel\", \"Host\": \"UNKNOWN\", \"Operation\": \"scoring\"}, \"Metrics\": {\"invocations.count\": {\"sum\": 1.0, \"count\": 1, \"min\": 1, \"max\": 1}}}\u001b[0m\n",
      "\u001b[35m#metrics {\"StartTime\": 1651806418.8486896, \"EndTime\": 1651806420.2420533, \"Dimensions\": {\"Algorithm\": \"AlgorithmModel\", \"Host\": \"UNKNOWN\", \"Operation\": \"scoring\"}, \"Metrics\": {\"invocations.count\": {\"sum\": 1.0, \"count\": 1, \"min\": 1, \"max\": 1}}}\u001b[0m\n",
      "\u001b[34m[05/06/2022 03:07:00 WARNING 140438325135168] Requesting context without setting the requested num of gpus. Using 'auto'\u001b[0m\n",
      "\u001b[34m[05/06/2022 03:07:00 INFO 140438325135168] Number of GPUs being used: 0\u001b[0m\n",
      "\u001b[34m[05/06/2022 03:07:00 INFO 140438325135168] The default executor is <PCAModel on cpu(0)>.\u001b[0m\n",
      "\u001b[34m[05/06/2022 03:07:00 INFO 140438325135168] <PCAModel on cpu(0)> is assigned to batch slice from 0 to 853.\u001b[0m\n",
      "\u001b[34m#metrics {\"StartTime\": 1651806420.0120673, \"EndTime\": 1651806420.5581203, \"Dimensions\": {\"Algorithm\": \"AlgorithmModel\", \"Host\": \"UNKNOWN\", \"Operation\": \"scoring\"}, \"Metrics\": {\"invocations.count\": {\"sum\": 1.0, \"count\": 1, \"min\": 1, \"max\": 1}}}\u001b[0m\n",
      "\u001b[35m[05/06/2022 03:07:00 WARNING 140438325135168] Requesting context without setting the requested num of gpus. Using 'auto'\u001b[0m\n",
      "\u001b[35m[05/06/2022 03:07:00 INFO 140438325135168] Number of GPUs being used: 0\u001b[0m\n",
      "\u001b[35m[05/06/2022 03:07:00 INFO 140438325135168] The default executor is <PCAModel on cpu(0)>.\u001b[0m\n",
      "\u001b[35m[05/06/2022 03:07:00 INFO 140438325135168] <PCAModel on cpu(0)> is assigned to batch slice from 0 to 853.\u001b[0m\n",
      "\u001b[35m#metrics {\"StartTime\": 1651806420.0120673, \"EndTime\": 1651806420.5581203, \"Dimensions\": {\"Algorithm\": \"AlgorithmModel\", \"Host\": \"UNKNOWN\", \"Operation\": \"scoring\"}, \"Metrics\": {\"invocations.count\": {\"sum\": 1.0, \"count\": 1, \"min\": 1, \"max\": 1}}}\u001b[0m\n"
     ]
    }
   ],
   "source": [
    "pca_transformer.transform(train_s3, content_type=\"text/csv\", split_type=\"Line\")\n",
    "pca_transformer.wait()"
   ]
  },
  {
   "attachments": {
    "image.png": {
     "image/png": "[encoded data removed]"
    }
   },
   "cell_type": "markdown",
   "id": "acabc45a",
   "metadata": {},
   "source": [
    "![image.png](attachment:image.png)"
   ]
  },
  {
   "cell_type": "markdown",
   "id": "490974c6",
   "metadata": {},
   "source": [
    "Now that our batch transform job has completed, let’s take a look at the output. Since we’ve reduced the dimensionality so much, the output is reasonably small and we can just download it locally."
   ]
  },
  {
   "cell_type": "markdown",
   "id": "21dd23fc",
   "metadata": {},
   "source": [
    "**Real-time prediction comparison**"
   ]
  },
  {
   "cell_type": "code",
   "execution_count": null,
   "id": "88ca1b83",
   "metadata": {},
   "outputs": [],
   "source": [
    "pca_predictor = pca.deploy(\n",
    "    initial_instance_count=1,\n",
    "    serializer=CSVSerializer(),\n",
    "    deserializer=JSONDeserializer(),\n",
    "    instance_type=\"ml.m4.xlarge\",\n",
    ")"
   ]
  },
  {
   "cell_type": "code",
   "execution_count": null,
   "id": "37af5a2a",
   "metadata": {},
   "outputs": [],
   "source": [
    "components = []\n",
    "for array in np.array_split(np.array(train_sparse.todense()), 500):\n",
    "    result = pca_predictor.predict(array)\n",
    "    components += [r[\"projection\"] for r in result[\"projections\"]]\n",
    "components = np.array(components)"
   ]
  },
  {
   "cell_type": "code",
   "execution_count": null,
   "id": "b0d02879",
   "metadata": {},
   "outputs": [],
   "source": [
    "sess.delete_endpoint(pca_predictor.endpoint)"
   ]
  },
  {
   "cell_type": "markdown",
   "id": "ad321e3f",
   "metadata": {},
   "source": [
    "**Batch prediction on new data**"
   ]
  },
  {
   "cell_type": "code",
   "execution_count": 28,
   "id": "78bbd864",
   "metadata": {},
   "outputs": [],
   "source": [
    "pca_model = sess.create_model_from_job(pca._current_job_name, name=\"{}-test\".format(pca._current_job_name))"
   ]
  },
  {
   "cell_type": "markdown",
   "id": "fe7d0d11",
   "metadata": {},
   "source": [
    "Now, we can create a transformer starting from the SageMaker model. Our arguments are the same as when we created the transformer from the estimator except for the additional model name argument."
   ]
  },
  {
   "cell_type": "code",
   "execution_count": null,
   "id": "3095b643",
   "metadata": {},
   "outputs": [],
   "source": [
    "pca_test_transformer = Transformer(\n",
    "    pca_model,\n",
    "    1,\n",
    "    \"ml.m4.xlarge\",\n",
    "    output_path=\"s3://{}/{}/pca/transform/test\".format(bucket, prefix),\n",
    "    sagemaker_session=sess,\n",
    "    strategy=\"MultiRecord\",\n",
    "    assemble_with=\"Line\",\n",
    ")\n",
    "pca_test_transformer.transform(test_s3, content_type=\"text/csv\", split_type=\"Line\")\n",
    "pca_test_transformer.wait()"
   ]
  },
  {
   "cell_type": "markdown",
   "id": "36e7866b",
   "metadata": {},
   "source": [
    "We can see that we have output the reduced dimensional components for our test dataset, using the model we built from our training dataset.\n",
    "\n",
    "At this point in time, we’ve shown all of the batch functionality you need to get started using it in Amazon SageMaker."
   ]
  },
  {
   "cell_type": "code",
   "execution_count": null,
   "id": "a021970d",
   "metadata": {},
   "outputs": [],
   "source": []
  }
 ],
 "metadata": {
  "kernelspec": {
   "display_name": "conda_python3",
   "language": "python",
   "name": "conda_python3"
  },
  "language_info": {
   "codemirror_mode": {
    "name": "ipython",
    "version": 3
   },
   "file_extension": ".py",
   "mimetype": "text/x-python",
   "name": "python",
   "nbconvert_exporter": "python",
   "pygments_lexer": "ipython3",
   "version": "3.6.13"
  }
 },
 "nbformat": 4,
 "nbformat_minor": 5
}
