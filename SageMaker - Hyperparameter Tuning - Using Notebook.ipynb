{
 "cells": [
  {
   "cell_type": "markdown",
   "id": "eca6b8dc",
   "metadata": {},
   "source": [
    "# SageMaker - Hypeparameter Tuning - Using Notebook"
   ]
  },
  {
   "cell_type": "markdown",
   "id": "78b19e23",
   "metadata": {},
   "source": [
    "#### Set up Environment"
   ]
  },
  {
   "cell_type": "code",
   "execution_count": 2,
   "id": "c7c844cf",
   "metadata": {},
   "outputs": [],
   "source": [
    "import os\n",
    "import json\n",
    "import sagemaker\n",
    "from sagemaker.tensorflow import TensorFlow\n",
    "from sagemaker import get_execution_role"
   ]
  },
  {
   "cell_type": "markdown",
   "id": "a15f278a",
   "metadata": {},
   "source": [
    "A **boto3** session object to manage interactions with the Amazon SageMaker APIs.\n",
    "\n",
    "An **execution role** which is passed to SageMaker to access your AWS resources."
   ]
  },
  {
   "cell_type": "code",
   "execution_count": 3,
   "id": "045d697e",
   "metadata": {},
   "outputs": [],
   "source": [
    "sess = sagemaker.Session()\n",
    "role = get_execution_role()"
   ]
  },
  {
   "cell_type": "markdown",
   "id": "d5a32fc5",
   "metadata": {},
   "source": [
    "#### Download Data\n",
    "\n",
    "Download the MNIST data from a public S3 bucket and save it in a temporary directory."
   ]
  },
  {
   "cell_type": "code",
   "execution_count": 5,
   "id": "be98a78e",
   "metadata": {},
   "outputs": [],
   "source": [
    "import logging\n",
    "import boto3\n",
    "from botocore.exceptions import ClientError"
   ]
  },
  {
   "cell_type": "code",
   "execution_count": 6,
   "id": "cc55408f",
   "metadata": {},
   "outputs": [],
   "source": [
    "public_bucket = \"sagemaker-sample-files\"\n",
    "local_data_dir = \"/tmp/data\""
   ]
  },
  {
   "cell_type": "markdown",
   "id": "302ff4e3",
   "metadata": {},
   "source": [
    "Download training and testing data from a public S3 bucket."
   ]
  },
  {
   "cell_type": "code",
   "execution_count": 8,
   "id": "7567afc2",
   "metadata": {},
   "outputs": [
    {
     "name": "stderr",
     "output_type": "stream",
     "text": [
      "/home/ec2-user/anaconda3/envs/python3/lib/python3.6/site-packages/boto3/compat.py:88: PythonDeprecationWarning: Boto3 will no longer support Python 3.6 starting May 30, 2022. To continue receiving service updates, bug fixes, and security updates please upgrade to Python 3.7 or later. More information can be found here: https://aws.amazon.com/blogs/developer/python-support-policy-updates-for-aws-sdks-and-tools/\n",
      "  warnings.warn(warning, PythonDeprecationWarning)\n"
     ]
    }
   ],
   "source": [
    "def download_from_s3(data_dir=\"/tmp/data\", train=True):\n",
    "    \n",
    "    # Project Root\n",
    "    if not os.path.exists(data_dir):\n",
    "        os.makedirs(data_dir)\n",
    "        \n",
    "    if train:\n",
    "        images_file = \"train-images-idx3-ubyte.gz\"\n",
    "        labels_file = \"train-labels-idx1-ubyte.gz\"\n",
    "    else:\n",
    "        images_file = \"t10k-images-idx3-ubyte.gz\"\n",
    "        labels_file = \"t10k-labels-idx1-ubyte.gz\"\n",
    "        \n",
    "    # download objects\n",
    "    s3 = boto3.client(\"s3\")\n",
    "    bucket = public_bucket\n",
    "    \n",
    "    for obj in [images_file, labels_file]:\n",
    "        key = os.path.join(\"datasets/image/MNIST\", obj)\n",
    "        dest = os.path.join(data_dir, obj)\n",
    "        if not os.path.exists(dest):\n",
    "            s3.download_file(bucket, key, dest)\n",
    "    return\n",
    "\n",
    "download_from_s3(local_data_dir, True)\n",
    "download_from_s3(local_data_dir, False)"
   ]
  },
  {
   "cell_type": "markdown",
   "id": "f25f1acd",
   "metadata": {},
   "source": [
    "#### Run a TensorFlow Training Job"
   ]
  },
  {
   "cell_type": "code",
   "execution_count": 18,
   "id": "88ef24d2",
   "metadata": {},
   "outputs": [
    {
     "name": "stdout",
     "output_type": "stream",
     "text": [
      "Error: cannot read infile: [Errno 2] No such file or directory: 'code/train.py'\r\n"
     ]
    }
   ],
   "source": [
    "!pygmentize 'code/train.py'"
   ]
  },
  {
   "cell_type": "code",
   "execution_count": 23,
   "id": "22c76589",
   "metadata": {},
   "outputs": [],
   "source": [
    "tf_estimator = TensorFlow(\n",
    "                            entry_point=\"tf_hyperparameter_train.py\",\n",
    "                            role=role,\n",
    "                            framework_version=\"2.3.1\",\n",
    "                            model_dir=\"/opt/ml/model\",\n",
    "                            py_version=\"py37\",\n",
    "                            instance_type=\"ml.m5.4xlarge\",\n",
    "                            instance_count=1,\n",
    "                            volume_size=250,\n",
    "                            hyperparameters={\n",
    "                                \"batch-size\": 512,\n",
    "                                \"epochs\": 4,\n",
    "                            },\n",
    "                        )"
   ]
  },
  {
   "cell_type": "markdown",
   "id": "68c6ed4a",
   "metadata": {},
   "source": [
    "#### Set Up Channels for Training and Testing Data"
   ]
  },
  {
   "cell_type": "code",
   "execution_count": 24,
   "id": "28ea4776",
   "metadata": {},
   "outputs": [],
   "source": [
    "prefix = \"mnist\"\n",
    "bucket = sess.default_bucket()\n",
    "loc = sess.upload_data(path=local_data_dir, bucket=bucket, key_prefix=prefix)\n",
    "\n",
    "channels = {\"training\": loc, \"testing\": loc}"
   ]
  },
  {
   "cell_type": "markdown",
   "id": "7b7c573d",
   "metadata": {},
   "source": [
    "#### Run a Hyperparameter Tuning Job\n",
    "\n",
    "**Steps:**\n",
    "\n",
    "- Define the ranges of hyperparameters we plan to tune. In this example, we tune the learning rate.\n",
    "- Define the objective metric for the tuning job to optimize. \n",
    "- Create a hyperparameter tuner with the above setting, as well as tuning resource configurations.\n",
    "\n",
    "`CategoricalParameter(list)` - Takes one value from a discrete set.\n",
    "\n",
    "`ContinuousParameter(min, max)` - Takes any real number value between the minimum and maximum.\n",
    "\n",
    "`IntegerParameter(min, max)` - Takes any integer value between the minimum and maximum value."
   ]
  },
  {
   "cell_type": "markdown",
   "id": "39078bba",
   "metadata": {},
   "source": [
    "Define **hyperparameter** and **range**."
   ]
  },
  {
   "cell_type": "code",
   "execution_count": 25,
   "id": "d9fda42d",
   "metadata": {},
   "outputs": [],
   "source": [
    "from sagemaker.tuner import ContinuousParameter, HyperparameterTuner\n",
    "\n",
    "hyperparamter_range = {\"learning-rate\": ContinuousParameter(1e-4, 1e-3)}"
   ]
  },
  {
   "cell_type": "markdown",
   "id": "047efe36",
   "metadata": {},
   "source": [
    "Define **Objective Metric**"
   ]
  },
  {
   "cell_type": "code",
   "execution_count": 26,
   "id": "1410c4ff",
   "metadata": {},
   "outputs": [],
   "source": [
    "objective_metric_name = \"average test loss\"\n",
    "objective_type = \"Minimize\"\n",
    "metric_definitions = [\n",
    "    {\n",
    "        \"Name\": \"average test loss\",\n",
    "        \"Regex\": \"Test Loss: ([0-9\\\\.]+)\",\n",
    "    }\n",
    "]"
   ]
  },
  {
   "cell_type": "markdown",
   "id": "4f5a639e",
   "metadata": {},
   "source": [
    "Create **HyperparameterTuner**"
   ]
  },
  {
   "cell_type": "code",
   "execution_count": 27,
   "id": "25d00c2a",
   "metadata": {},
   "outputs": [],
   "source": [
    "tuner = HyperparameterTuner(\n",
    "    tf_estimator,\n",
    "    objective_metric_name,\n",
    "    hyperparamter_range,\n",
    "    metric_definitions,\n",
    "    max_jobs=3,\n",
    "    max_parallel_jobs=3,\n",
    "    objective_type=objective_type,\n",
    ")"
   ]
  },
  {
   "cell_type": "markdown",
   "id": "1f886e7c",
   "metadata": {},
   "source": [
    "Fit Tuner"
   ]
  },
  {
   "cell_type": "code",
   "execution_count": 28,
   "id": "a805460d",
   "metadata": {},
   "outputs": [
    {
     "name": "stdout",
     "output_type": "stream",
     "text": [
      "......................................!\n"
     ]
    }
   ],
   "source": [
    "tuner.fit(inputs=channels)"
   ]
  },
  {
   "cell_type": "markdown",
   "id": "3f0a78e5",
   "metadata": {},
   "source": [
    "#### Deploy the Best Model"
   ]
  },
  {
   "cell_type": "code",
   "execution_count": 30,
   "id": "07727f1e",
   "metadata": {},
   "outputs": [
    {
     "name": "stdout",
     "output_type": "stream",
     "text": [
      "\n",
      "2022-05-04 01:50:54 Starting - Preparing the instances for training\n",
      "2022-05-04 01:50:54 Downloading - Downloading input data\n",
      "2022-05-04 01:50:54 Training - Training image download completed. Training in progress.\n",
      "2022-05-04 01:50:54 Uploading - Uploading generated training model\n",
      "2022-05-04 01:50:54 Completed - Training job completed"
     ]
    },
    {
     "name": "stderr",
     "output_type": "stream",
     "text": [
      "update_endpoint is a no-op in sagemaker>=2.\n",
      "See: https://sagemaker.readthedocs.io/en/stable/v2.html for details.\n"
     ]
    },
    {
     "name": "stdout",
     "output_type": "stream",
     "text": [
      "\n",
      "-----!"
     ]
    }
   ],
   "source": [
    "predictor = tuner.deploy(initial_instance_count=1, instance_type=\"ml.t2.large\")"
   ]
  },
  {
   "cell_type": "markdown",
   "id": "370ea10f",
   "metadata": {},
   "source": [
    "We can see the Hyperparameter Tuner in AWS Sagemaker."
   ]
  },
  {
   "attachments": {
    "image.png": {
     "image/png": "[encoded data removed]"
    }
   },
   "cell_type": "markdown",
   "id": "c4a0327a",
   "metadata": {},
   "source": [
    "![image.png](attachment:image.png)"
   ]
  },
  {
   "cell_type": "markdown",
   "id": "482f278a",
   "metadata": {},
   "source": [
    "#### Evaluate"
   ]
  },
  {
   "cell_type": "code",
   "execution_count": 31,
   "id": "786243f1",
   "metadata": {},
   "outputs": [
    {
     "name": "stderr",
     "output_type": "stream",
     "text": [
      "Matplotlib is building the font cache; this may take a moment.\n"
     ]
    }
   ],
   "source": [
    "import random\n",
    "import gzip\n",
    "import numpy as np\n",
    "import matplotlib.pyplot as plt\n",
    "%matplotlib inline\n",
    "\n",
    "images_file = \"t10k-images-idx3-ubyte.gz\""
   ]
  },
  {
   "cell_type": "code",
   "execution_count": 32,
   "id": "b4c0fdcd",
   "metadata": {},
   "outputs": [],
   "source": [
    "def read_mnist(data_dir, images_file):\n",
    "    with gzip.open(os.path.join(data_dir, images_file), \"rb\") as f:\n",
    "        images = np.frombuffer(f.read(), np.uint8, offset=16).reshape(-1, 28, 28)\n",
    "    return images"
   ]
  },
  {
   "cell_type": "code",
   "execution_count": 33,
   "id": "bed4cefb",
   "metadata": {},
   "outputs": [
    {
     "data": {
      "image/png": "[encoded data removed]",
      "text/plain": [
       "<Figure size 1152x72 with 16 Axes>"
      ]
     },
     "metadata": {
      "needs_background": "light"
     },
     "output_type": "display_data"
    }
   ],
   "source": [
    "X = read_mnist(local_data_dir, images_file)\n",
    "\n",
    "# Randomly sample 16 images to inspect\n",
    "mask = random.sample(range(X.shape[0]), 16)\n",
    "samples = X[mask]\n",
    "\n",
    "# Plot the images\n",
    "fig, axs = plt.subplots(nrows=1, ncols=16, figsize=(16, 1))\n",
    "\n",
    "for i, splt in enumerate(axs):\n",
    "    splt.imshow(samples[i])"
   ]
  },
  {
   "cell_type": "markdown",
   "id": "2b8c709f",
   "metadata": {},
   "source": [
    "Preprocess the data to be consumed by the model"
   ]
  },
  {
   "cell_type": "code",
   "execution_count": 34,
   "id": "c988c0d3",
   "metadata": {},
   "outputs": [],
   "source": [
    "def normalize(x, axis):\n",
    "    eps = np.finfo(float).eps\n",
    "\n",
    "    mean = np.mean(x, axis=axis, keepdims=True)\n",
    "    # avoid division by zero\n",
    "    std = np.std(x, axis=axis, keepdims=True) + eps\n",
    "    return (x - mean) / std"
   ]
  },
  {
   "cell_type": "code",
   "execution_count": 35,
   "id": "d623fdf2",
   "metadata": {},
   "outputs": [],
   "source": [
    "samples = normalize(samples, axis=(1, 2))\n",
    "samples = np.expand_dims(samples, axis=3)"
   ]
  },
  {
   "cell_type": "markdown",
   "id": "a83f7236",
   "metadata": {},
   "source": [
    "#### Make Prediction"
   ]
  },
  {
   "cell_type": "code",
   "execution_count": 36,
   "id": "7f40a4ff",
   "metadata": {},
   "outputs": [
    {
     "name": "stdout",
     "output_type": "stream",
     "text": [
      "Predictions:  3 9 3 7 4 5 7 6 1 3 0 8 6 2 0 5\n"
     ]
    }
   ],
   "source": [
    "predictions = predictor.predict(samples)[\"predictions\"]\n",
    "\n",
    "# softmax to logit\n",
    "predictions = np.array(predictions, dtype=np.float32)\n",
    "predictions = np.argmax(predictions, axis=1)\n",
    "\n",
    "print(\"Predictions: \", *predictions)"
   ]
  },
  {
   "cell_type": "markdown",
   "id": "62566b90",
   "metadata": {},
   "source": [
    "#### Cleanup"
   ]
  },
  {
   "cell_type": "code",
   "execution_count": 40,
   "id": "1fe9a56f",
   "metadata": {},
   "outputs": [
    {
     "data": {
      "text/plain": [
       "[{'ResponseMetadata': {'RequestId': 'DE5YT86TXC1FR73B',\n",
       "   'HostId': 'X7myvwkCgjL2I+hEprnoyy0jFEdyB/u2XInYBw8pkwbhKRubmhWCckpXFA2BUgWqQZUqutXylOU=',\n",
       "   'HTTPStatusCode': 200,\n",
       "   'HTTPHeaders': {'x-amz-id-2': 'X7myvwkCgjL2I+hEprnoyy0jFEdyB/u2XInYBw8pkwbhKRubmhWCckpXFA2BUgWqQZUqutXylOU=',\n",
       "    'x-amz-request-id': 'DE5YT86TXC1FR73B',\n",
       "    'date': 'Wed, 04 May 2022 01:58:40 GMT',\n",
       "    'content-type': 'application/xml',\n",
       "    'transfer-encoding': 'chunked',\n",
       "    'server': 'AmazonS3',\n",
       "    'connection': 'close'},\n",
       "   'RetryAttempts': 0},\n",
       "  'Deleted': [{'Key': 'tensorflow-training-220504-0147-002-858450c4/output/model.tar.gz'},\n",
       "   {'Key': 'tensorflow-training-2022-05-04-01-47-52-188/source/sourcedir.tar.gz'},\n",
       "   {'Key': 'tensorflow-training-220504-0147-001-7e823f6f/output/model.tar.gz'},\n",
       "   {'Key': 'tensorflow-training-220504-0147-003-21912c0d/output/model.tar.gz'},\n",
       "   {'Key': 'mnist/train-labels-idx1-ubyte.gz'},\n",
       "   {'Key': 'mnist/train-images-idx3-ubyte.gz'},\n",
       "   {'Key': 'mnist/t10k-images-idx3-ubyte.gz'},\n",
       "   {'Key': 'mnist/t10k-labels-idx1-ubyte.gz'}]}]"
      ]
     },
     "execution_count": 40,
     "metadata": {},
     "output_type": "execute_result"
    }
   ],
   "source": [
    "bucket_to_delete = boto3.resource('s3').Bucket(bucket)\n",
    "bucket_to_delete.objects.all().delete()\n",
    "predictor.delete_endpoint()"
   ]
  }
 ],
 "metadata": {
  "kernelspec": {
   "display_name": "Python 3 (ipykernel)",
   "language": "python",
   "name": "python3"
  },
  "language_info": {
   "codemirror_mode": {
    "name": "ipython",
    "version": 3
   },
   "file_extension": ".py",
   "mimetype": "text/x-python",
   "name": "python",
   "nbconvert_exporter": "python",
   "pygments_lexer": "ipython3",
   "version": "3.10.4"
  }
 },
 "nbformat": 4,
 "nbformat_minor": 5
}
